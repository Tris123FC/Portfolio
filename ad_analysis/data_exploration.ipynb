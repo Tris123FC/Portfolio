{
 "cells": [
  {
   "cell_type": "code",
   "execution_count": 1,
   "id": "00d53f95",
   "metadata": {
    "_cell_guid": "b1076dfc-b9ad-4769-8c92-a6c4dae69d19",
    "_uuid": "8f2839f25d086af736a60e9eeb907d3b93b6e0e5",
    "execution": {
     "iopub.execute_input": "2024-08-12T13:04:50.437906Z",
     "iopub.status.busy": "2024-08-12T13:04:50.437485Z",
     "iopub.status.idle": "2024-08-12T13:04:53.127579Z",
     "shell.execute_reply": "2024-08-12T13:04:53.126378Z"
    },
    "papermill": {
     "duration": 2.703323,
     "end_time": "2024-08-12T13:04:53.130795",
     "exception": false,
     "start_time": "2024-08-12T13:04:50.427472",
     "status": "completed"
    },
    "tags": []
   },
   "outputs": [
    {
     "name": "stdout",
     "output_type": "stream",
     "text": [
      "/kaggle/input/advertisement-and-sales-data-for-analysis/Advertising And Sales.csv\n"
     ]
    }
   ],
   "source": [
    "import numpy as np # linear algebra\n",
    "import pandas as pd # data processing, CSV file I/O (e.g. pd.read_csv)\n",
    "import seaborn as sns\n",
    "import matplotlib.pyplot as plt\n",
    "\n",
    "import os\n",
    "for dirname, _, filenames in os.walk('/kaggle/input'):\n",
    "    for filename in filenames:\n",
    "        print(os.path.join(dirname, filename))\n"
   ]
  },
  {
   "cell_type": "markdown",
   "id": "5fc903d8",
   "metadata": {
    "papermill": {
     "duration": 0.006735,
     "end_time": "2024-08-12T13:04:53.145073",
     "exception": false,
     "start_time": "2024-08-12T13:04:53.138338",
     "status": "completed"
    },
    "tags": []
   },
   "source": [
    "# 1. Clearing Data"
   ]
  },
  {
   "cell_type": "markdown",
   "id": "9debb4ab",
   "metadata": {
    "papermill": {
     "duration": 0.006817,
     "end_time": "2024-08-12T13:04:53.158984",
     "exception": false,
     "start_time": "2024-08-12T13:04:53.152167",
     "status": "completed"
    },
    "tags": []
   },
   "source": [
    "Check the shape and summary stats and look for any missing values or errors."
   ]
  },
  {
   "cell_type": "code",
   "execution_count": 2,
   "id": "3e827c35",
   "metadata": {
    "execution": {
     "iopub.execute_input": "2024-08-12T13:04:53.175550Z",
     "iopub.status.busy": "2024-08-12T13:04:53.174965Z",
     "iopub.status.idle": "2024-08-12T13:04:53.199211Z",
     "shell.execute_reply": "2024-08-12T13:04:53.197844Z"
    },
    "papermill": {
     "duration": 0.036029,
     "end_time": "2024-08-12T13:04:53.202116",
     "exception": false,
     "start_time": "2024-08-12T13:04:53.166087",
     "status": "completed"
    },
    "tags": []
   },
   "outputs": [],
   "source": [
    "paths = []\n",
    "for dirname, _, filenames in os.walk('/kaggle/input'):\n",
    "    for filename in filenames:\n",
    "        path = os.path.join(dirname,filename)\n",
    "        paths.append(path)\n",
    "try:\n",
    "    if not paths:\n",
    "        raise ValueError(\"The list is empty.\")\n",
    "    else:\n",
    "        df = pd.read_csv(paths[0])\n",
    "        \n",
    "except ValueError as e:\n",
    "    print(e)"
   ]
  },
  {
   "cell_type": "code",
   "execution_count": 3,
   "id": "98907320",
   "metadata": {
    "execution": {
     "iopub.execute_input": "2024-08-12T13:04:53.218384Z",
     "iopub.status.busy": "2024-08-12T13:04:53.217958Z",
     "iopub.status.idle": "2024-08-12T13:04:53.248543Z",
     "shell.execute_reply": "2024-08-12T13:04:53.247159Z"
    },
    "papermill": {
     "duration": 0.041831,
     "end_time": "2024-08-12T13:04:53.251301",
     "exception": false,
     "start_time": "2024-08-12T13:04:53.209470",
     "status": "completed"
    },
    "tags": []
   },
   "outputs": [
    {
     "data": {
      "text/html": [
       "<div>\n",
       "<style scoped>\n",
       "    .dataframe tbody tr th:only-of-type {\n",
       "        vertical-align: middle;\n",
       "    }\n",
       "\n",
       "    .dataframe tbody tr th {\n",
       "        vertical-align: top;\n",
       "    }\n",
       "\n",
       "    .dataframe thead th {\n",
       "        text-align: right;\n",
       "    }\n",
       "</style>\n",
       "<table border=\"1\" class=\"dataframe\">\n",
       "  <thead>\n",
       "    <tr style=\"text-align: right;\">\n",
       "      <th></th>\n",
       "      <th>ID</th>\n",
       "      <th>TV</th>\n",
       "      <th>Radio</th>\n",
       "      <th>Newspaper</th>\n",
       "      <th>Sales</th>\n",
       "    </tr>\n",
       "  </thead>\n",
       "  <tbody>\n",
       "    <tr>\n",
       "      <th>0</th>\n",
       "      <td>1</td>\n",
       "      <td>230.1</td>\n",
       "      <td>37.8</td>\n",
       "      <td>69.2</td>\n",
       "      <td>22.1</td>\n",
       "    </tr>\n",
       "    <tr>\n",
       "      <th>1</th>\n",
       "      <td>2</td>\n",
       "      <td>44.5</td>\n",
       "      <td>39.3</td>\n",
       "      <td>45.1</td>\n",
       "      <td>10.4</td>\n",
       "    </tr>\n",
       "    <tr>\n",
       "      <th>2</th>\n",
       "      <td>3</td>\n",
       "      <td>17.2</td>\n",
       "      <td>45.9</td>\n",
       "      <td>69.3</td>\n",
       "      <td>9.3</td>\n",
       "    </tr>\n",
       "    <tr>\n",
       "      <th>3</th>\n",
       "      <td>4</td>\n",
       "      <td>151.5</td>\n",
       "      <td>41.3</td>\n",
       "      <td>58.5</td>\n",
       "      <td>18.5</td>\n",
       "    </tr>\n",
       "    <tr>\n",
       "      <th>4</th>\n",
       "      <td>5</td>\n",
       "      <td>180.8</td>\n",
       "      <td>12.8</td>\n",
       "      <td>58.4</td>\n",
       "      <td>12.9</td>\n",
       "    </tr>\n",
       "  </tbody>\n",
       "</table>\n",
       "</div>"
      ],
      "text/plain": [
       "   ID     TV  Radio  Newspaper  Sales\n",
       "0   1  230.1   37.8       69.2   22.1\n",
       "1   2   44.5   39.3       45.1   10.4\n",
       "2   3   17.2   45.9       69.3    9.3\n",
       "3   4  151.5   41.3       58.5   18.5\n",
       "4   5  180.8   12.8       58.4   12.9"
      ]
     },
     "execution_count": 3,
     "metadata": {},
     "output_type": "execute_result"
    }
   ],
   "source": [
    "df.head(5)"
   ]
  },
  {
   "cell_type": "code",
   "execution_count": 4,
   "id": "0374c95d",
   "metadata": {
    "execution": {
     "iopub.execute_input": "2024-08-12T13:04:53.268354Z",
     "iopub.status.busy": "2024-08-12T13:04:53.267934Z",
     "iopub.status.idle": "2024-08-12T13:04:53.302133Z",
     "shell.execute_reply": "2024-08-12T13:04:53.300712Z"
    },
    "papermill": {
     "duration": 0.046095,
     "end_time": "2024-08-12T13:04:53.304811",
     "exception": false,
     "start_time": "2024-08-12T13:04:53.258716",
     "status": "completed"
    },
    "tags": []
   },
   "outputs": [
    {
     "data": {
      "text/html": [
       "<div>\n",
       "<style scoped>\n",
       "    .dataframe tbody tr th:only-of-type {\n",
       "        vertical-align: middle;\n",
       "    }\n",
       "\n",
       "    .dataframe tbody tr th {\n",
       "        vertical-align: top;\n",
       "    }\n",
       "\n",
       "    .dataframe thead th {\n",
       "        text-align: right;\n",
       "    }\n",
       "</style>\n",
       "<table border=\"1\" class=\"dataframe\">\n",
       "  <thead>\n",
       "    <tr style=\"text-align: right;\">\n",
       "      <th></th>\n",
       "      <th>ID</th>\n",
       "      <th>TV</th>\n",
       "      <th>Radio</th>\n",
       "      <th>Newspaper</th>\n",
       "      <th>Sales</th>\n",
       "    </tr>\n",
       "  </thead>\n",
       "  <tbody>\n",
       "    <tr>\n",
       "      <th>count</th>\n",
       "      <td>200.000000</td>\n",
       "      <td>200.000000</td>\n",
       "      <td>200.00000</td>\n",
       "      <td>200.000000</td>\n",
       "      <td>200.0000</td>\n",
       "    </tr>\n",
       "    <tr>\n",
       "      <th>mean</th>\n",
       "      <td>100.500000</td>\n",
       "      <td>147.032500</td>\n",
       "      <td>23.28950</td>\n",
       "      <td>30.554000</td>\n",
       "      <td>14.0380</td>\n",
       "    </tr>\n",
       "    <tr>\n",
       "      <th>std</th>\n",
       "      <td>57.879185</td>\n",
       "      <td>85.885186</td>\n",
       "      <td>14.86997</td>\n",
       "      <td>21.778621</td>\n",
       "      <td>5.2094</td>\n",
       "    </tr>\n",
       "    <tr>\n",
       "      <th>min</th>\n",
       "      <td>1.000000</td>\n",
       "      <td>0.700000</td>\n",
       "      <td>0.00000</td>\n",
       "      <td>0.300000</td>\n",
       "      <td>1.6000</td>\n",
       "    </tr>\n",
       "    <tr>\n",
       "      <th>25%</th>\n",
       "      <td>50.750000</td>\n",
       "      <td>74.375000</td>\n",
       "      <td>10.07500</td>\n",
       "      <td>12.750000</td>\n",
       "      <td>10.4000</td>\n",
       "    </tr>\n",
       "    <tr>\n",
       "      <th>50%</th>\n",
       "      <td>100.500000</td>\n",
       "      <td>149.750000</td>\n",
       "      <td>22.90000</td>\n",
       "      <td>25.750000</td>\n",
       "      <td>12.9000</td>\n",
       "    </tr>\n",
       "    <tr>\n",
       "      <th>75%</th>\n",
       "      <td>150.250000</td>\n",
       "      <td>218.825000</td>\n",
       "      <td>36.52500</td>\n",
       "      <td>45.100000</td>\n",
       "      <td>17.4000</td>\n",
       "    </tr>\n",
       "    <tr>\n",
       "      <th>max</th>\n",
       "      <td>200.000000</td>\n",
       "      <td>296.400000</td>\n",
       "      <td>49.60000</td>\n",
       "      <td>114.000000</td>\n",
       "      <td>27.0000</td>\n",
       "    </tr>\n",
       "  </tbody>\n",
       "</table>\n",
       "</div>"
      ],
      "text/plain": [
       "               ID          TV      Radio   Newspaper     Sales\n",
       "count  200.000000  200.000000  200.00000  200.000000  200.0000\n",
       "mean   100.500000  147.032500   23.28950   30.554000   14.0380\n",
       "std     57.879185   85.885186   14.86997   21.778621    5.2094\n",
       "min      1.000000    0.700000    0.00000    0.300000    1.6000\n",
       "25%     50.750000   74.375000   10.07500   12.750000   10.4000\n",
       "50%    100.500000  149.750000   22.90000   25.750000   12.9000\n",
       "75%    150.250000  218.825000   36.52500   45.100000   17.4000\n",
       "max    200.000000  296.400000   49.60000  114.000000   27.0000"
      ]
     },
     "execution_count": 4,
     "metadata": {},
     "output_type": "execute_result"
    }
   ],
   "source": [
    "df.describe()"
   ]
  },
  {
   "cell_type": "markdown",
   "id": "c54525df",
   "metadata": {
    "papermill": {
     "duration": 0.007345,
     "end_time": "2024-08-12T13:04:53.320092",
     "exception": false,
     "start_time": "2024-08-12T13:04:53.312747",
     "status": "completed"
    },
    "tags": []
   },
   "source": [
    "# * Check for NAN values"
   ]
  },
  {
   "cell_type": "code",
   "execution_count": 5,
   "id": "5edbded7",
   "metadata": {
    "execution": {
     "iopub.execute_input": "2024-08-12T13:04:53.337118Z",
     "iopub.status.busy": "2024-08-12T13:04:53.336721Z",
     "iopub.status.idle": "2024-08-12T13:04:53.353627Z",
     "shell.execute_reply": "2024-08-12T13:04:53.352371Z"
    },
    "papermill": {
     "duration": 0.028735,
     "end_time": "2024-08-12T13:04:53.356369",
     "exception": false,
     "start_time": "2024-08-12T13:04:53.327634",
     "status": "completed"
    },
    "tags": []
   },
   "outputs": [
    {
     "data": {
      "text/html": [
       "<div>\n",
       "<style scoped>\n",
       "    .dataframe tbody tr th:only-of-type {\n",
       "        vertical-align: middle;\n",
       "    }\n",
       "\n",
       "    .dataframe tbody tr th {\n",
       "        vertical-align: top;\n",
       "    }\n",
       "\n",
       "    .dataframe thead th {\n",
       "        text-align: right;\n",
       "    }\n",
       "</style>\n",
       "<table border=\"1\" class=\"dataframe\">\n",
       "  <thead>\n",
       "    <tr style=\"text-align: right;\">\n",
       "      <th></th>\n",
       "      <th>ID</th>\n",
       "      <th>TV</th>\n",
       "      <th>Radio</th>\n",
       "      <th>Newspaper</th>\n",
       "      <th>Sales</th>\n",
       "    </tr>\n",
       "  </thead>\n",
       "  <tbody>\n",
       "  </tbody>\n",
       "</table>\n",
       "</div>"
      ],
      "text/plain": [
       "Empty DataFrame\n",
       "Columns: [ID, TV, Radio, Newspaper, Sales]\n",
       "Index: []"
      ]
     },
     "execution_count": 5,
     "metadata": {},
     "output_type": "execute_result"
    }
   ],
   "source": [
    "df_row_mask= df.isna().any(axis=1)\n",
    "rows_with_nan = df[df_row_mask]\n",
    "rows_with_nan.head()"
   ]
  },
  {
   "cell_type": "code",
   "execution_count": 6,
   "id": "4f465f01",
   "metadata": {
    "execution": {
     "iopub.execute_input": "2024-08-12T13:04:53.374220Z",
     "iopub.status.busy": "2024-08-12T13:04:53.373813Z",
     "iopub.status.idle": "2024-08-12T13:04:53.383197Z",
     "shell.execute_reply": "2024-08-12T13:04:53.381909Z"
    },
    "papermill": {
     "duration": 0.021573,
     "end_time": "2024-08-12T13:04:53.385855",
     "exception": false,
     "start_time": "2024-08-12T13:04:53.364282",
     "status": "completed"
    },
    "tags": []
   },
   "outputs": [
    {
     "data": {
      "text/plain": [
       "Index([], dtype='object')"
      ]
     },
     "execution_count": 6,
     "metadata": {},
     "output_type": "execute_result"
    }
   ],
   "source": [
    "df_columns_mask= df.isna().any(axis=0)\n",
    "df.columns[df_columns_mask]"
   ]
  },
  {
   "cell_type": "markdown",
   "id": "fbe4e7ad",
   "metadata": {
    "papermill": {
     "duration": 0.007702,
     "end_time": "2024-08-12T13:04:53.401511",
     "exception": false,
     "start_time": "2024-08-12T13:04:53.393809",
     "status": "completed"
    },
    "tags": []
   },
   "source": [
    "When doing further analysis, we need to be careful of the sales values which were duplicated when attaching the sales column to the melted table."
   ]
  },
  {
   "cell_type": "markdown",
   "id": "82a1d68c",
   "metadata": {
    "papermill": {
     "duration": 0.007718,
     "end_time": "2024-08-12T13:04:53.417094",
     "exception": false,
     "start_time": "2024-08-12T13:04:53.409376",
     "status": "completed"
    },
    "tags": []
   },
   "source": [
    "# 2. Data Visualisation"
   ]
  },
  {
   "cell_type": "markdown",
   "id": "aa6e760f",
   "metadata": {
    "papermill": {
     "duration": 0.007665,
     "end_time": "2024-08-12T13:04:53.433218",
     "exception": false,
     "start_time": "2024-08-12T13:04:53.425553",
     "status": "completed"
    },
    "tags": []
   },
   "source": [
    "# * Correlation"
   ]
  },
  {
   "cell_type": "code",
   "execution_count": 7,
   "id": "8e98aa3b",
   "metadata": {
    "execution": {
     "iopub.execute_input": "2024-08-12T13:04:53.450812Z",
     "iopub.status.busy": "2024-08-12T13:04:53.450390Z",
     "iopub.status.idle": "2024-08-12T13:04:54.439648Z",
     "shell.execute_reply": "2024-08-12T13:04:54.438458Z"
    },
    "papermill": {
     "duration": 1.001274,
     "end_time": "2024-08-12T13:04:54.442314",
     "exception": false,
     "start_time": "2024-08-12T13:04:53.441040",
     "status": "completed"
    },
    "tags": []
   },
   "outputs": [
    {
     "data": {
      "image/png": "[encoded data removed]",
      "text/plain": [
       "<Figure size 1000x500 with 3 Axes>"
      ]
     },
     "metadata": {},
     "output_type": "display_data"
    }
   ],
   "source": [
    "plt.figure(figsize=(10, 5)) \n",
    "plt.subplot(1, 3, 1)\n",
    "sns.scatterplot(x='TV', y='Sales', data= df)\n",
    "plt.title('Scatter Plot of TV budget vs Sales')\n",
    "\n",
    "# Scatter plot for second pair\n",
    "plt.subplot(1, 3, 2)\n",
    "sns.scatterplot(x='Radio', y='Sales', data= df)\n",
    "plt.title('Scatter Plot of Radio budget vs Sales')\n",
    "\n",
    "plt.subplot(1, 3, 3)\n",
    "sns.scatterplot(x='Newspaper', y='Sales', data= df)\n",
    "plt.title('Scatter Plot of Newspaper budget vs Sales')\n",
    "# Show the plots\n",
    "plt.tight_layout()\n",
    "plt.show()\n"
   ]
  },
  {
   "cell_type": "markdown",
   "id": "057f7e95",
   "metadata": {
    "papermill": {
     "duration": 0.009275,
     "end_time": "2024-08-12T13:04:54.460572",
     "exception": false,
     "start_time": "2024-08-12T13:04:54.451297",
     "status": "completed"
    },
    "tags": []
   },
   "source": [
    "plt.figure(figsize=(10, 6))\n",
    "sns.boxplot(x='Category', y='Values', data=df)\n",
    "\n",
    "plt.title('Box Plot of Values by Category')\n",
    "plt.xlabel('Category')\n",
    "plt.ylabel('Values')"
   ]
  },
  {
   "cell_type": "code",
   "execution_count": 8,
   "id": "f0b6b82d",
   "metadata": {
    "execution": {
     "iopub.execute_input": "2024-08-12T13:04:54.481501Z",
     "iopub.status.busy": "2024-08-12T13:04:54.481049Z",
     "iopub.status.idle": "2024-08-12T13:04:54.925737Z",
     "shell.execute_reply": "2024-08-12T13:04:54.924289Z"
    },
    "papermill": {
     "duration": 0.458056,
     "end_time": "2024-08-12T13:04:54.928644",
     "exception": false,
     "start_time": "2024-08-12T13:04:54.470588",
     "status": "completed"
    },
    "tags": []
   },
   "outputs": [
    {
     "data": {
      "image/png": "[encoded data removed]",
      "text/plain": [
       "<Figure size 640x480 with 1 Axes>"
      ]
     },
     "metadata": {},
     "output_type": "display_data"
    }
   ],
   "source": [
    "sns.scatterplot(x='TV', y='Sales', data= df)\n",
    "plt.title('Scatter Plot of TV budget vs Sales')\n",
    "sns.regplot(x='TV', y='Sales', data=df, scatter_kws={'s':20}, line_kws={'color':'red'})\n",
    "plt.show()"
   ]
  },
  {
   "cell_type": "markdown",
   "id": "38988552",
   "metadata": {
    "papermill": {
     "duration": 0.009791,
     "end_time": "2024-08-12T13:04:54.949374",
     "exception": false,
     "start_time": "2024-08-12T13:04:54.939583",
     "status": "completed"
    },
    "tags": []
   },
   "source": [
    "There is a strong correlation between budget and sales."
   ]
  },
  {
   "cell_type": "markdown",
   "id": "aa0c3a59",
   "metadata": {
    "papermill": {
     "duration": 0.009946,
     "end_time": "2024-08-12T13:04:54.969340",
     "exception": false,
     "start_time": "2024-08-12T13:04:54.959394",
     "status": "completed"
    },
    "tags": []
   },
   "source": [
    "# * Budget Analysis"
   ]
  },
  {
   "cell_type": "code",
   "execution_count": 9,
   "id": "7cae80c7",
   "metadata": {
    "execution": {
     "iopub.execute_input": "2024-08-12T13:04:54.991020Z",
     "iopub.status.busy": "2024-08-12T13:04:54.990596Z",
     "iopub.status.idle": "2024-08-12T13:04:55.015156Z",
     "shell.execute_reply": "2024-08-12T13:04:55.013836Z"
    },
    "papermill": {
     "duration": 0.038197,
     "end_time": "2024-08-12T13:04:55.017566",
     "exception": false,
     "start_time": "2024-08-12T13:04:54.979369",
     "status": "completed"
    },
    "tags": []
   },
   "outputs": [
    {
     "data": {
      "text/html": [
       "<div>\n",
       "<style scoped>\n",
       "    .dataframe tbody tr th:only-of-type {\n",
       "        vertical-align: middle;\n",
       "    }\n",
       "\n",
       "    .dataframe tbody tr th {\n",
       "        vertical-align: top;\n",
       "    }\n",
       "\n",
       "    .dataframe thead th {\n",
       "        text-align: right;\n",
       "    }\n",
       "</style>\n",
       "<table border=\"1\" class=\"dataframe\">\n",
       "  <thead>\n",
       "    <tr style=\"text-align: right;\">\n",
       "      <th></th>\n",
       "      <th>ID</th>\n",
       "      <th>Category</th>\n",
       "      <th>Budget</th>\n",
       "    </tr>\n",
       "  </thead>\n",
       "  <tbody>\n",
       "    <tr>\n",
       "      <th>0</th>\n",
       "      <td>1</td>\n",
       "      <td>TV</td>\n",
       "      <td>230.1</td>\n",
       "    </tr>\n",
       "    <tr>\n",
       "      <th>1</th>\n",
       "      <td>2</td>\n",
       "      <td>TV</td>\n",
       "      <td>44.5</td>\n",
       "    </tr>\n",
       "    <tr>\n",
       "      <th>2</th>\n",
       "      <td>3</td>\n",
       "      <td>TV</td>\n",
       "      <td>17.2</td>\n",
       "    </tr>\n",
       "    <tr>\n",
       "      <th>3</th>\n",
       "      <td>4</td>\n",
       "      <td>TV</td>\n",
       "      <td>151.5</td>\n",
       "    </tr>\n",
       "    <tr>\n",
       "      <th>4</th>\n",
       "      <td>5</td>\n",
       "      <td>TV</td>\n",
       "      <td>180.8</td>\n",
       "    </tr>\n",
       "    <tr>\n",
       "      <th>...</th>\n",
       "      <td>...</td>\n",
       "      <td>...</td>\n",
       "      <td>...</td>\n",
       "    </tr>\n",
       "    <tr>\n",
       "      <th>595</th>\n",
       "      <td>196</td>\n",
       "      <td>Newspaper</td>\n",
       "      <td>13.8</td>\n",
       "    </tr>\n",
       "    <tr>\n",
       "      <th>596</th>\n",
       "      <td>197</td>\n",
       "      <td>Newspaper</td>\n",
       "      <td>8.1</td>\n",
       "    </tr>\n",
       "    <tr>\n",
       "      <th>597</th>\n",
       "      <td>198</td>\n",
       "      <td>Newspaper</td>\n",
       "      <td>6.4</td>\n",
       "    </tr>\n",
       "    <tr>\n",
       "      <th>598</th>\n",
       "      <td>199</td>\n",
       "      <td>Newspaper</td>\n",
       "      <td>66.2</td>\n",
       "    </tr>\n",
       "    <tr>\n",
       "      <th>599</th>\n",
       "      <td>200</td>\n",
       "      <td>Newspaper</td>\n",
       "      <td>8.7</td>\n",
       "    </tr>\n",
       "  </tbody>\n",
       "</table>\n",
       "<p>600 rows × 3 columns</p>\n",
       "</div>"
      ],
      "text/plain": [
       "      ID   Category  Budget\n",
       "0      1         TV   230.1\n",
       "1      2         TV    44.5\n",
       "2      3         TV    17.2\n",
       "3      4         TV   151.5\n",
       "4      5         TV   180.8\n",
       "..   ...        ...     ...\n",
       "595  196  Newspaper    13.8\n",
       "596  197  Newspaper     8.1\n",
       "597  198  Newspaper     6.4\n",
       "598  199  Newspaper    66.2\n",
       "599  200  Newspaper     8.7\n",
       "\n",
       "[600 rows x 3 columns]"
      ]
     },
     "execution_count": 9,
     "metadata": {},
     "output_type": "execute_result"
    }
   ],
   "source": [
    "df_melted = df.melt(id_vars='ID', value_vars=['TV', 'Radio','Newspaper'], var_name='Category', value_name='Budget')\n",
    "df_melted"
   ]
  },
  {
   "cell_type": "code",
   "execution_count": 10,
   "id": "6765f686",
   "metadata": {
    "execution": {
     "iopub.execute_input": "2024-08-12T13:04:55.039966Z",
     "iopub.status.busy": "2024-08-12T13:04:55.039577Z",
     "iopub.status.idle": "2024-08-12T13:04:55.211882Z",
     "shell.execute_reply": "2024-08-12T13:04:55.210061Z"
    },
    "papermill": {
     "duration": 0.187698,
     "end_time": "2024-08-12T13:04:55.215727",
     "exception": false,
     "start_time": "2024-08-12T13:04:55.028029",
     "status": "completed"
    },
    "tags": []
   },
   "outputs": [
    {
     "data": {
      "image/png": "[encoded data removed]",
      "text/plain": [
       "<Figure size 640x480 with 1 Axes>"
      ]
     },
     "metadata": {},
     "output_type": "display_data"
    }
   ],
   "source": [
    "sns.barplot(x='Category', y='Budget', data=df_melted, errorbar=None, palette='viridis')\n",
    "plt.show()"
   ]
  },
  {
   "cell_type": "code",
   "execution_count": 11,
   "id": "d6e7b0e9",
   "metadata": {
    "execution": {
     "iopub.execute_input": "2024-08-12T13:04:55.239304Z",
     "iopub.status.busy": "2024-08-12T13:04:55.238245Z",
     "iopub.status.idle": "2024-08-12T13:04:55.516211Z",
     "shell.execute_reply": "2024-08-12T13:04:55.514963Z"
    },
    "papermill": {
     "duration": 0.292363,
     "end_time": "2024-08-12T13:04:55.518813",
     "exception": false,
     "start_time": "2024-08-12T13:04:55.226450",
     "status": "completed"
    },
    "tags": []
   },
   "outputs": [
    {
     "data": {
      "text/plain": [
       "<Axes: xlabel='Category', ylabel='Budget'>"
      ]
     },
     "execution_count": 11,
     "metadata": {},
     "output_type": "execute_result"
    },
    {
     "data": {
      "image/png": "[encoded data removed]",
      "text/plain": [
       "<Figure size 640x480 with 1 Axes>"
      ]
     },
     "metadata": {},
     "output_type": "display_data"
    }
   ],
   "source": [
    "sns.boxplot(x='Category', y='Budget', data=df_melted, palette='viridis')"
   ]
  },
  {
   "cell_type": "markdown",
   "id": "439a5bfb",
   "metadata": {
    "papermill": {
     "duration": 0.012806,
     "end_time": "2024-08-12T13:04:55.543196",
     "exception": false,
     "start_time": "2024-08-12T13:04:55.530390",
     "status": "completed"
    },
    "tags": []
   },
   "source": [
    "# 3. Analysis Conclusions"
   ]
  },
  {
   "cell_type": "markdown",
   "id": "df272471",
   "metadata": {
    "papermill": {
     "duration": 0.010679,
     "end_time": "2024-08-12T13:04:55.564994",
     "exception": false,
     "start_time": "2024-08-12T13:04:55.554315",
     "status": "completed"
    },
    "tags": []
   },
   "source": [
    "The budget for TV is much higher with a greater variance.\n",
    "Further analysis should look at the impact of each media stream on sales.\n",
    "Unfortunally this data set does not have enough data for attribution modelling."
   ]
  }
 ],
 "metadata": {
  "kaggle": {
   "accelerator": "none",
   "dataSources": [
    {
     "datasetId": 5387030,
     "sourceId": 8951447,
     "sourceType": "datasetVersion"
    }
   ],
   "dockerImageVersionId": 30746,
   "isGpuEnabled": false,
   "isInternetEnabled": false,
   "language": "python",
   "sourceType": "notebook"
  },
  "kernelspec": {
   "display_name": "Python 3",
   "language": "python",
   "name": "python3"
  },
  "language_info": {
   "codemirror_mode": {
    "name": "ipython",
    "version": 3
   },
   "file_extension": ".py",
   "mimetype": "text/x-python",
   "name": "python",
   "nbconvert_exporter": "python",
   "pygments_lexer": "ipython3",
   "version": "3.10.13"
  },
  "papermill": {
   "default_parameters": {},
   "duration": 9.153453,
   "end_time": "2024-08-12T13:04:56.298400",
   "environment_variables": {},
   "exception": null,
   "input_path": "__notebook__.ipynb",
   "output_path": "__notebook__.ipynb",
   "parameters": {},
   "start_time": "2024-08-12T13:04:47.144947",
   "version": "2.5.0"
  }
 },
 "nbformat": 4,
 "nbformat_minor": 5
}
