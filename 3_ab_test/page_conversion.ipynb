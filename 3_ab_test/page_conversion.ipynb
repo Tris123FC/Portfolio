{
 "cells": [
  {
   "cell_type": "code",
   "execution_count": 1,
   "id": "8597e269",
   "metadata": {
    "_cell_guid": "b1076dfc-b9ad-4769-8c92-a6c4dae69d19",
    "_uuid": "8f2839f25d086af736a60e9eeb907d3b93b6e0e5",
    "execution": {
     "iopub.execute_input": "2024-08-16T11:45:27.589032Z",
     "iopub.status.busy": "2024-08-16T11:45:27.588649Z",
     "iopub.status.idle": "2024-08-16T11:45:28.675540Z",
     "shell.execute_reply": "2024-08-16T11:45:28.674391Z"
    },
    "papermill": {
     "duration": 1.097685,
     "end_time": "2024-08-16T11:45:28.678083",
     "exception": false,
     "start_time": "2024-08-16T11:45:27.580398",
     "status": "completed"
    },
    "tags": []
   },
   "outputs": [],
   "source": [
    "import numpy as np # linear algebra\n",
    "import pandas as pd # data processing, CSV file I/O (e.g. pd.read_csv)\n",
    "import os\n",
    "import warnings\n",
    "warnings.filterwarnings('ignore')\n",
    "\n",
    "paths = []\n",
    "for dirname, _, filenames in os.walk('/kaggle/input'):\n",
    "    for filename in filenames:\n",
    "        x = os.path.join(dirname, filename)\n",
    "        paths.append(x)\n",
    "\n",
    "df = pd.read_csv(paths[1])"
   ]
  },
  {
   "cell_type": "markdown",
   "id": "d3521218",
   "metadata": {
    "papermill": {
     "duration": 0.006148,
     "end_time": "2024-08-16T11:45:28.690691",
     "exception": false,
     "start_time": "2024-08-16T11:45:28.684543",
     "status": "completed"
    },
    "tags": []
   },
   "source": [
    "# 1. Cleaning and Organising"
   ]
  },
  {
   "cell_type": "markdown",
   "id": "19679b87",
   "metadata": {
    "papermill": {
     "duration": 0.005697,
     "end_time": "2024-08-16T11:45:28.702396",
     "exception": false,
     "start_time": "2024-08-16T11:45:28.696699",
     "status": "completed"
    },
    "tags": []
   },
   "source": [
    "# 1. 1. Quick Look at the Data"
   ]
  },
  {
   "cell_type": "code",
   "execution_count": 2,
   "id": "23a834e1",
   "metadata": {
    "execution": {
     "iopub.execute_input": "2024-08-16T11:45:28.716752Z",
     "iopub.status.busy": "2024-08-16T11:45:28.715968Z",
     "iopub.status.idle": "2024-08-16T11:45:28.735327Z",
     "shell.execute_reply": "2024-08-16T11:45:28.734363Z"
    },
    "papermill": {
     "duration": 0.028979,
     "end_time": "2024-08-16T11:45:28.737540",
     "exception": false,
     "start_time": "2024-08-16T11:45:28.708561",
     "status": "completed"
    },
    "tags": []
   },
   "outputs": [
    {
     "data": {
      "text/html": [
       "<div>\n",
       "<style scoped>\n",
       "    .dataframe tbody tr th:only-of-type {\n",
       "        vertical-align: middle;\n",
       "    }\n",
       "\n",
       "    .dataframe tbody tr th {\n",
       "        vertical-align: top;\n",
       "    }\n",
       "\n",
       "    .dataframe thead th {\n",
       "        text-align: right;\n",
       "    }\n",
       "</style>\n",
       "<table border=\"1\" class=\"dataframe\">\n",
       "  <thead>\n",
       "    <tr style=\"text-align: right;\">\n",
       "      <th></th>\n",
       "      <th>user_id</th>\n",
       "      <th>timestamp</th>\n",
       "      <th>group</th>\n",
       "      <th>landing_page</th>\n",
       "      <th>converted</th>\n",
       "    </tr>\n",
       "  </thead>\n",
       "  <tbody>\n",
       "    <tr>\n",
       "      <th>0</th>\n",
       "      <td>851104</td>\n",
       "      <td>11:48.6</td>\n",
       "      <td>control</td>\n",
       "      <td>old_page</td>\n",
       "      <td>0</td>\n",
       "    </tr>\n",
       "    <tr>\n",
       "      <th>1</th>\n",
       "      <td>804228</td>\n",
       "      <td>01:45.2</td>\n",
       "      <td>control</td>\n",
       "      <td>old_page</td>\n",
       "      <td>0</td>\n",
       "    </tr>\n",
       "    <tr>\n",
       "      <th>2</th>\n",
       "      <td>661590</td>\n",
       "      <td>55:06.2</td>\n",
       "      <td>treatment</td>\n",
       "      <td>new_page</td>\n",
       "      <td>0</td>\n",
       "    </tr>\n",
       "    <tr>\n",
       "      <th>3</th>\n",
       "      <td>853541</td>\n",
       "      <td>28:03.1</td>\n",
       "      <td>treatment</td>\n",
       "      <td>new_page</td>\n",
       "      <td>0</td>\n",
       "    </tr>\n",
       "    <tr>\n",
       "      <th>4</th>\n",
       "      <td>864975</td>\n",
       "      <td>52:26.2</td>\n",
       "      <td>control</td>\n",
       "      <td>old_page</td>\n",
       "      <td>1</td>\n",
       "    </tr>\n",
       "  </tbody>\n",
       "</table>\n",
       "</div>"
      ],
      "text/plain": [
       "   user_id timestamp      group landing_page  converted\n",
       "0   851104   11:48.6    control     old_page          0\n",
       "1   804228   01:45.2    control     old_page          0\n",
       "2   661590   55:06.2  treatment     new_page          0\n",
       "3   853541   28:03.1  treatment     new_page          0\n",
       "4   864975   52:26.2    control     old_page          1"
      ]
     },
     "execution_count": 2,
     "metadata": {},
     "output_type": "execute_result"
    }
   ],
   "source": [
    "df.head(5)"
   ]
  },
  {
   "cell_type": "code",
   "execution_count": 3,
   "id": "6d5b3eec",
   "metadata": {
    "execution": {
     "iopub.execute_input": "2024-08-16T11:45:28.752271Z",
     "iopub.status.busy": "2024-08-16T11:45:28.751376Z",
     "iopub.status.idle": "2024-08-16T11:45:28.757536Z",
     "shell.execute_reply": "2024-08-16T11:45:28.756573Z"
    },
    "papermill": {
     "duration": 0.0158,
     "end_time": "2024-08-16T11:45:28.759744",
     "exception": false,
     "start_time": "2024-08-16T11:45:28.743944",
     "status": "completed"
    },
    "tags": []
   },
   "outputs": [
    {
     "data": {
      "text/plain": [
       "(294480, 5)"
      ]
     },
     "execution_count": 3,
     "metadata": {},
     "output_type": "execute_result"
    }
   ],
   "source": [
    "df.shape"
   ]
  },
  {
   "cell_type": "code",
   "execution_count": 4,
   "id": "1c043155",
   "metadata": {
    "execution": {
     "iopub.execute_input": "2024-08-16T11:45:28.774415Z",
     "iopub.status.busy": "2024-08-16T11:45:28.773879Z",
     "iopub.status.idle": "2024-08-16T11:45:28.813016Z",
     "shell.execute_reply": "2024-08-16T11:45:28.811946Z"
    },
    "papermill": {
     "duration": 0.049002,
     "end_time": "2024-08-16T11:45:28.815310",
     "exception": false,
     "start_time": "2024-08-16T11:45:28.766308",
     "status": "completed"
    },
    "tags": []
   },
   "outputs": [
    {
     "data": {
      "text/html": [
       "<div>\n",
       "<style scoped>\n",
       "    .dataframe tbody tr th:only-of-type {\n",
       "        vertical-align: middle;\n",
       "    }\n",
       "\n",
       "    .dataframe tbody tr th {\n",
       "        vertical-align: top;\n",
       "    }\n",
       "\n",
       "    .dataframe thead th {\n",
       "        text-align: right;\n",
       "    }\n",
       "</style>\n",
       "<table border=\"1\" class=\"dataframe\">\n",
       "  <thead>\n",
       "    <tr style=\"text-align: right;\">\n",
       "      <th></th>\n",
       "      <th>user_id</th>\n",
       "      <th>converted</th>\n",
       "    </tr>\n",
       "  </thead>\n",
       "  <tbody>\n",
       "    <tr>\n",
       "      <th>count</th>\n",
       "      <td>294480.000000</td>\n",
       "      <td>294480.000000</td>\n",
       "    </tr>\n",
       "    <tr>\n",
       "      <th>mean</th>\n",
       "      <td>787973.538896</td>\n",
       "      <td>0.119658</td>\n",
       "    </tr>\n",
       "    <tr>\n",
       "      <th>std</th>\n",
       "      <td>91210.917091</td>\n",
       "      <td>0.324562</td>\n",
       "    </tr>\n",
       "    <tr>\n",
       "      <th>min</th>\n",
       "      <td>630000.000000</td>\n",
       "      <td>0.000000</td>\n",
       "    </tr>\n",
       "    <tr>\n",
       "      <th>25%</th>\n",
       "      <td>709031.750000</td>\n",
       "      <td>0.000000</td>\n",
       "    </tr>\n",
       "    <tr>\n",
       "      <th>50%</th>\n",
       "      <td>787932.500000</td>\n",
       "      <td>0.000000</td>\n",
       "    </tr>\n",
       "    <tr>\n",
       "      <th>75%</th>\n",
       "      <td>866911.250000</td>\n",
       "      <td>0.000000</td>\n",
       "    </tr>\n",
       "    <tr>\n",
       "      <th>max</th>\n",
       "      <td>945999.000000</td>\n",
       "      <td>1.000000</td>\n",
       "    </tr>\n",
       "  </tbody>\n",
       "</table>\n",
       "</div>"
      ],
      "text/plain": [
       "             user_id      converted\n",
       "count  294480.000000  294480.000000\n",
       "mean   787973.538896       0.119658\n",
       "std     91210.917091       0.324562\n",
       "min    630000.000000       0.000000\n",
       "25%    709031.750000       0.000000\n",
       "50%    787932.500000       0.000000\n",
       "75%    866911.250000       0.000000\n",
       "max    945999.000000       1.000000"
      ]
     },
     "execution_count": 4,
     "metadata": {},
     "output_type": "execute_result"
    }
   ],
   "source": [
    "df.describe()"
   ]
  },
  {
   "cell_type": "code",
   "execution_count": 5,
   "id": "59855a24",
   "metadata": {
    "execution": {
     "iopub.execute_input": "2024-08-16T11:45:28.830073Z",
     "iopub.status.busy": "2024-08-16T11:45:28.829718Z",
     "iopub.status.idle": "2024-08-16T11:45:28.878028Z",
     "shell.execute_reply": "2024-08-16T11:45:28.876984Z"
    },
    "papermill": {
     "duration": 0.058211,
     "end_time": "2024-08-16T11:45:28.880272",
     "exception": false,
     "start_time": "2024-08-16T11:45:28.822061",
     "status": "completed"
    },
    "tags": []
   },
   "outputs": [],
   "source": [
    "#Check for NA Values - Print list of columns and number of nan values\n",
    "df_columns_mask= df.isna().any(axis=0)\n",
    "columns = df.columns[df_columns_mask]\n",
    "for col in columns:\n",
    "    print(f\"Column {col} has {new_df[col].isna().sum()} NaN values\")"
   ]
  },
  {
   "cell_type": "markdown",
   "id": "8a91aee0",
   "metadata": {
    "papermill": {
     "duration": 0.006168,
     "end_time": "2024-08-16T11:45:28.893076",
     "exception": false,
     "start_time": "2024-08-16T11:45:28.886908",
     "status": "completed"
    },
    "tags": []
   },
   "source": [
    "No NA values"
   ]
  },
  {
   "cell_type": "code",
   "execution_count": 6,
   "id": "0e32ac43",
   "metadata": {
    "execution": {
     "iopub.execute_input": "2024-08-16T11:45:28.907896Z",
     "iopub.status.busy": "2024-08-16T11:45:28.907020Z",
     "iopub.status.idle": "2024-08-16T11:45:28.946144Z",
     "shell.execute_reply": "2024-08-16T11:45:28.944580Z"
    },
    "papermill": {
     "duration": 0.048849,
     "end_time": "2024-08-16T11:45:28.948365",
     "exception": false,
     "start_time": "2024-08-16T11:45:28.899516",
     "status": "completed"
    },
    "tags": []
   },
   "outputs": [
    {
     "name": "stdout",
     "output_type": "stream",
     "text": [
      "(294480, 5)\n",
      "(286690, 5)\n"
     ]
    }
   ],
   "source": [
    "# removed duplicates\n",
    "print(df.shape)\n",
    "df = df.drop_duplicates(subset= 'user_id', keep= False)\n",
    "print(df.shape)"
   ]
  },
  {
   "cell_type": "markdown",
   "id": "6f119e7d",
   "metadata": {
    "papermill": {
     "duration": 0.006992,
     "end_time": "2024-08-16T11:45:28.961949",
     "exception": false,
     "start_time": "2024-08-16T11:45:28.954957",
     "status": "completed"
    },
    "tags": []
   },
   "source": [
    "# 1. 2. Group Data by Landing Page and Groups"
   ]
  },
  {
   "cell_type": "code",
   "execution_count": 7,
   "id": "14d06e5f",
   "metadata": {
    "execution": {
     "iopub.execute_input": "2024-08-16T11:45:28.977185Z",
     "iopub.status.busy": "2024-08-16T11:45:28.976509Z",
     "iopub.status.idle": "2024-08-16T11:45:29.078978Z",
     "shell.execute_reply": "2024-08-16T11:45:29.078009Z"
    },
    "papermill": {
     "duration": 0.11245,
     "end_time": "2024-08-16T11:45:29.081147",
     "exception": false,
     "start_time": "2024-08-16T11:45:28.968697",
     "status": "completed"
    },
    "tags": []
   },
   "outputs": [
    {
     "data": {
      "text/html": [
       "<div>\n",
       "<style scoped>\n",
       "    .dataframe tbody tr th:only-of-type {\n",
       "        vertical-align: middle;\n",
       "    }\n",
       "\n",
       "    .dataframe tbody tr th {\n",
       "        vertical-align: top;\n",
       "    }\n",
       "\n",
       "    .dataframe thead th {\n",
       "        text-align: right;\n",
       "    }\n",
       "</style>\n",
       "<table border=\"1\" class=\"dataframe\">\n",
       "  <thead>\n",
       "    <tr style=\"text-align: right;\">\n",
       "      <th></th>\n",
       "      <th></th>\n",
       "      <th>landing_page</th>\n",
       "    </tr>\n",
       "    <tr>\n",
       "      <th>landing_page</th>\n",
       "      <th>group</th>\n",
       "      <th></th>\n",
       "    </tr>\n",
       "  </thead>\n",
       "  <tbody>\n",
       "    <tr>\n",
       "      <th>new_page</th>\n",
       "      <th>treatment</th>\n",
       "      <td>143397</td>\n",
       "    </tr>\n",
       "    <tr>\n",
       "      <th>old_page</th>\n",
       "      <th>control</th>\n",
       "      <td>143293</td>\n",
       "    </tr>\n",
       "  </tbody>\n",
       "</table>\n",
       "</div>"
      ],
      "text/plain": [
       "                        landing_page\n",
       "landing_page group                  \n",
       "new_page     treatment        143397\n",
       "old_page     control          143293"
      ]
     },
     "execution_count": 7,
     "metadata": {},
     "output_type": "execute_result"
    }
   ],
   "source": [
    "#count observations for each landing page\n",
    "grouped = df.groupby(['landing_page', 'group']).agg({'landing_page': lambda x: x.value_counts()})\n",
    "grouped"
   ]
  },
  {
   "cell_type": "code",
   "execution_count": 8,
   "id": "fbcf5208",
   "metadata": {
    "execution": {
     "iopub.execute_input": "2024-08-16T11:45:29.096281Z",
     "iopub.status.busy": "2024-08-16T11:45:29.095932Z",
     "iopub.status.idle": "2024-08-16T11:45:29.164489Z",
     "shell.execute_reply": "2024-08-16T11:45:29.163559Z"
    },
    "papermill": {
     "duration": 0.078648,
     "end_time": "2024-08-16T11:45:29.166618",
     "exception": false,
     "start_time": "2024-08-16T11:45:29.087970",
     "status": "completed"
    },
    "tags": []
   },
   "outputs": [
    {
     "data": {
      "text/html": [
       "<div>\n",
       "<style scoped>\n",
       "    .dataframe tbody tr th:only-of-type {\n",
       "        vertical-align: middle;\n",
       "    }\n",
       "\n",
       "    .dataframe tbody tr th {\n",
       "        vertical-align: top;\n",
       "    }\n",
       "\n",
       "    .dataframe thead th {\n",
       "        text-align: right;\n",
       "    }\n",
       "</style>\n",
       "<table border=\"1\" class=\"dataframe\">\n",
       "  <thead>\n",
       "    <tr style=\"text-align: right;\">\n",
       "      <th></th>\n",
       "      <th></th>\n",
       "      <th>converted</th>\n",
       "    </tr>\n",
       "    <tr>\n",
       "      <th>landing_page</th>\n",
       "      <th>group</th>\n",
       "      <th></th>\n",
       "    </tr>\n",
       "  </thead>\n",
       "  <tbody>\n",
       "    <tr>\n",
       "      <th>new_page</th>\n",
       "      <th>treatment</th>\n",
       "      <td>17025</td>\n",
       "    </tr>\n",
       "    <tr>\n",
       "      <th>old_page</th>\n",
       "      <th>control</th>\n",
       "      <td>17220</td>\n",
       "    </tr>\n",
       "  </tbody>\n",
       "</table>\n",
       "</div>"
      ],
      "text/plain": [
       "                        converted\n",
       "landing_page group               \n",
       "new_page     treatment      17025\n",
       "old_page     control        17220"
      ]
     },
     "execution_count": 8,
     "metadata": {},
     "output_type": "execute_result"
    }
   ],
   "source": [
    "grouped = df.groupby(['landing_page','group']).agg({'converted':'sum'})\n",
    "grouped"
   ]
  },
  {
   "cell_type": "code",
   "execution_count": 9,
   "id": "a2585ada",
   "metadata": {
    "execution": {
     "iopub.execute_input": "2024-08-16T11:45:29.181561Z",
     "iopub.status.busy": "2024-08-16T11:45:29.181229Z",
     "iopub.status.idle": "2024-08-16T11:45:29.275144Z",
     "shell.execute_reply": "2024-08-16T11:45:29.274185Z"
    },
    "papermill": {
     "duration": 0.103788,
     "end_time": "2024-08-16T11:45:29.277303",
     "exception": false,
     "start_time": "2024-08-16T11:45:29.173515",
     "status": "completed"
    },
    "tags": []
   },
   "outputs": [
    {
     "data": {
      "text/html": [
       "<div>\n",
       "<style scoped>\n",
       "    .dataframe tbody tr th:only-of-type {\n",
       "        vertical-align: middle;\n",
       "    }\n",
       "\n",
       "    .dataframe tbody tr th {\n",
       "        vertical-align: top;\n",
       "    }\n",
       "\n",
       "    .dataframe thead th {\n",
       "        text-align: right;\n",
       "    }\n",
       "</style>\n",
       "<table border=\"1\" class=\"dataframe\">\n",
       "  <thead>\n",
       "    <tr style=\"text-align: right;\">\n",
       "      <th></th>\n",
       "      <th></th>\n",
       "      <th>landing_page</th>\n",
       "    </tr>\n",
       "    <tr>\n",
       "      <th>landing_page</th>\n",
       "      <th>group</th>\n",
       "      <th></th>\n",
       "    </tr>\n",
       "  </thead>\n",
       "  <tbody>\n",
       "    <tr>\n",
       "      <th>new_page</th>\n",
       "      <th>treatment</th>\n",
       "      <td>143397</td>\n",
       "    </tr>\n",
       "    <tr>\n",
       "      <th>old_page</th>\n",
       "      <th>control</th>\n",
       "      <td>143293</td>\n",
       "    </tr>\n",
       "  </tbody>\n",
       "</table>\n",
       "</div>"
      ],
      "text/plain": [
       "                        landing_page\n",
       "landing_page group                  \n",
       "new_page     treatment        143397\n",
       "old_page     control          143293"
      ]
     },
     "execution_count": 9,
     "metadata": {},
     "output_type": "execute_result"
    }
   ],
   "source": [
    "grouped = df.groupby(['landing_page','group']).agg({'landing_page': lambda x: x.value_counts()})\n",
    "grouped"
   ]
  },
  {
   "cell_type": "code",
   "execution_count": 10,
   "id": "47001f85",
   "metadata": {
    "execution": {
     "iopub.execute_input": "2024-08-16T11:45:29.292870Z",
     "iopub.status.busy": "2024-08-16T11:45:29.292521Z",
     "iopub.status.idle": "2024-08-16T11:45:29.321271Z",
     "shell.execute_reply": "2024-08-16T11:45:29.320353Z"
    },
    "papermill": {
     "duration": 0.039012,
     "end_time": "2024-08-16T11:45:29.323464",
     "exception": false,
     "start_time": "2024-08-16T11:45:29.284452",
     "status": "completed"
    },
    "tags": []
   },
   "outputs": [
    {
     "data": {
      "text/html": [
       "<div>\n",
       "<style scoped>\n",
       "    .dataframe tbody tr th:only-of-type {\n",
       "        vertical-align: middle;\n",
       "    }\n",
       "\n",
       "    .dataframe tbody tr th {\n",
       "        vertical-align: top;\n",
       "    }\n",
       "\n",
       "    .dataframe thead th {\n",
       "        text-align: right;\n",
       "    }\n",
       "</style>\n",
       "<table border=\"1\" class=\"dataframe\">\n",
       "  <thead>\n",
       "    <tr style=\"text-align: right;\">\n",
       "      <th></th>\n",
       "      <th>proportion</th>\n",
       "    </tr>\n",
       "    <tr>\n",
       "      <th>landing_page</th>\n",
       "      <th></th>\n",
       "    </tr>\n",
       "  </thead>\n",
       "  <tbody>\n",
       "    <tr>\n",
       "      <th>new_page</th>\n",
       "      <td>50.018138</td>\n",
       "    </tr>\n",
       "    <tr>\n",
       "      <th>old_page</th>\n",
       "      <td>49.981862</td>\n",
       "    </tr>\n",
       "  </tbody>\n",
       "</table>\n",
       "</div>"
      ],
      "text/plain": [
       "              proportion\n",
       "landing_page            \n",
       "new_page       50.018138\n",
       "old_page       49.981862"
      ]
     },
     "execution_count": 10,
     "metadata": {},
     "output_type": "execute_result"
    }
   ],
   "source": [
    "pd.DataFrame(df.loc[:,'landing_page'].value_counts(normalize = True) * 100)"
   ]
  },
  {
   "cell_type": "code",
   "execution_count": 11,
   "id": "a814b807",
   "metadata": {
    "execution": {
     "iopub.execute_input": "2024-08-16T11:45:29.339378Z",
     "iopub.status.busy": "2024-08-16T11:45:29.339018Z",
     "iopub.status.idle": "2024-08-16T11:45:29.445082Z",
     "shell.execute_reply": "2024-08-16T11:45:29.444041Z"
    },
    "papermill": {
     "duration": 0.116506,
     "end_time": "2024-08-16T11:45:29.447235",
     "exception": false,
     "start_time": "2024-08-16T11:45:29.330729",
     "status": "completed"
    },
    "tags": []
   },
   "outputs": [
    {
     "data": {
      "text/html": [
       "<div>\n",
       "<style scoped>\n",
       "    .dataframe tbody tr th:only-of-type {\n",
       "        vertical-align: middle;\n",
       "    }\n",
       "\n",
       "    .dataframe tbody tr th {\n",
       "        vertical-align: top;\n",
       "    }\n",
       "\n",
       "    .dataframe thead th {\n",
       "        text-align: right;\n",
       "    }\n",
       "</style>\n",
       "<table border=\"1\" class=\"dataframe\">\n",
       "  <thead>\n",
       "    <tr style=\"text-align: right;\">\n",
       "      <th></th>\n",
       "      <th>user_id</th>\n",
       "      <th>timestamp</th>\n",
       "      <th>group</th>\n",
       "      <th>landing_page</th>\n",
       "      <th>converted</th>\n",
       "    </tr>\n",
       "  </thead>\n",
       "  <tbody>\n",
       "  </tbody>\n",
       "</table>\n",
       "</div>"
      ],
      "text/plain": [
       "Empty DataFrame\n",
       "Columns: [user_id, timestamp, group, landing_page, converted]\n",
       "Index: []"
      ]
     },
     "execution_count": 11,
     "metadata": {},
     "output_type": "execute_result"
    }
   ],
   "source": [
    "# Check for observations in wrong group\n",
    "df[((df['group'] == 'control') & (df['landing_page'] == 'new_page')) |((df['group'] == 'treatment') & (df['landing_page'] == 'old_page')) ]"
   ]
  },
  {
   "cell_type": "markdown",
   "id": "4eb816e0",
   "metadata": {
    "papermill": {
     "duration": 0.006956,
     "end_time": "2024-08-16T11:45:29.461525",
     "exception": false,
     "start_time": "2024-08-16T11:45:29.454569",
     "status": "completed"
    },
    "tags": []
   },
   "source": [
    "There are no more wrong observations, suggesting the inital error was due to duplicated values."
   ]
  },
  {
   "cell_type": "code",
   "execution_count": 12,
   "id": "bf29cfad",
   "metadata": {
    "execution": {
     "iopub.execute_input": "2024-08-16T11:45:29.477432Z",
     "iopub.status.busy": "2024-08-16T11:45:29.477082Z",
     "iopub.status.idle": "2024-08-16T11:45:29.544847Z",
     "shell.execute_reply": "2024-08-16T11:45:29.543830Z"
    },
    "papermill": {
     "duration": 0.078178,
     "end_time": "2024-08-16T11:45:29.547017",
     "exception": false,
     "start_time": "2024-08-16T11:45:29.468839",
     "status": "completed"
    },
    "tags": []
   },
   "outputs": [
    {
     "data": {
      "text/html": [
       "<div>\n",
       "<style scoped>\n",
       "    .dataframe tbody tr th:only-of-type {\n",
       "        vertical-align: middle;\n",
       "    }\n",
       "\n",
       "    .dataframe tbody tr th {\n",
       "        vertical-align: top;\n",
       "    }\n",
       "\n",
       "    .dataframe thead th {\n",
       "        text-align: right;\n",
       "    }\n",
       "</style>\n",
       "<table border=\"1\" class=\"dataframe\">\n",
       "  <thead>\n",
       "    <tr style=\"text-align: right;\">\n",
       "      <th></th>\n",
       "      <th></th>\n",
       "      <th>converted</th>\n",
       "    </tr>\n",
       "    <tr>\n",
       "      <th>group</th>\n",
       "      <th>landing_page</th>\n",
       "      <th></th>\n",
       "    </tr>\n",
       "  </thead>\n",
       "  <tbody>\n",
       "    <tr>\n",
       "      <th>control</th>\n",
       "      <th>old_page</th>\n",
       "      <td>0.120173</td>\n",
       "    </tr>\n",
       "    <tr>\n",
       "      <th>treatment</th>\n",
       "      <th>new_page</th>\n",
       "      <td>0.118726</td>\n",
       "    </tr>\n",
       "  </tbody>\n",
       "</table>\n",
       "</div>"
      ],
      "text/plain": [
       "                        converted\n",
       "group     landing_page           \n",
       "control   old_page       0.120173\n",
       "treatment new_page       0.118726"
      ]
     },
     "execution_count": 12,
     "metadata": {},
     "output_type": "execute_result"
    }
   ],
   "source": [
    "grouped = df.groupby(['group','landing_page']).agg({'converted': 'mean'})\n",
    "grouped"
   ]
  },
  {
   "cell_type": "markdown",
   "id": "2d7e4cec",
   "metadata": {
    "papermill": {
     "duration": 0.007324,
     "end_time": "2024-08-16T11:45:29.561858",
     "exception": false,
     "start_time": "2024-08-16T11:45:29.554534",
     "status": "completed"
    },
    "tags": []
   },
   "source": [
    "Old page has conversion rate of 12%"
   ]
  },
  {
   "cell_type": "markdown",
   "id": "110b2b17",
   "metadata": {
    "papermill": {
     "duration": 0.007161,
     "end_time": "2024-08-16T11:45:29.576450",
     "exception": false,
     "start_time": "2024-08-16T11:45:29.569289",
     "status": "completed"
    },
    "tags": []
   },
   "source": [
    "# 2. Testing"
   ]
  },
  {
   "cell_type": "markdown",
   "id": "46b4675f",
   "metadata": {
    "papermill": {
     "duration": 0.007123,
     "end_time": "2024-08-16T11:45:29.591133",
     "exception": false,
     "start_time": "2024-08-16T11:45:29.584010",
     "status": "completed"
    },
    "tags": []
   },
   "source": [
    "#  H0: There is no significant difference between the two sample distributions\n",
    "#  H1: There is a significant difference between the two sample distributions"
   ]
  },
  {
   "cell_type": "markdown",
   "id": "c756e0f7",
   "metadata": {
    "papermill": {
     "duration": 0.007141,
     "end_time": "2024-08-16T11:45:29.605659",
     "exception": false,
     "start_time": "2024-08-16T11:45:29.598518",
     "status": "completed"
    },
    "tags": []
   },
   "source": [
    "# 2.1 Using Power Analysis to Compare Two Means"
   ]
  },
  {
   "cell_type": "code",
   "execution_count": 13,
   "id": "28999e49",
   "metadata": {
    "execution": {
     "iopub.execute_input": "2024-08-16T11:45:29.621922Z",
     "iopub.status.busy": "2024-08-16T11:45:29.621544Z",
     "iopub.status.idle": "2024-08-16T11:45:30.620545Z",
     "shell.execute_reply": "2024-08-16T11:45:30.619724Z"
    },
    "papermill": {
     "duration": 1.010066,
     "end_time": "2024-08-16T11:45:30.623108",
     "exception": false,
     "start_time": "2024-08-16T11:45:29.613042",
     "status": "completed"
    },
    "tags": []
   },
   "outputs": [],
   "source": [
    "from statsmodels.stats.proportion import proportions_ztest\n",
    "from statsmodels.stats.power import NormalIndPower\n",
    "\n",
    "#parameters\n",
    "# p1 is the minimum detectable effect we want( 1% conversion increase)\n",
    "p1 = 0.13\n",
    "p2 = 0.12\n",
    "#power is the probability of safely rejecting the null\n",
    "power = 0.8\n",
    "#alpha is the probability of falsely rejecting the null\n",
    "alpha = 0.05"
   ]
  },
  {
   "cell_type": "code",
   "execution_count": 14,
   "id": "1e7e3641",
   "metadata": {
    "execution": {
     "iopub.execute_input": "2024-08-16T11:45:30.640158Z",
     "iopub.status.busy": "2024-08-16T11:45:30.639532Z",
     "iopub.status.idle": "2024-08-16T11:45:30.662916Z",
     "shell.execute_reply": "2024-08-16T11:45:30.661649Z"
    },
    "papermill": {
     "duration": 0.034152,
     "end_time": "2024-08-16T11:45:30.665027",
     "exception": false,
     "start_time": "2024-08-16T11:45:30.630875",
     "status": "completed"
    },
    "tags": []
   },
   "outputs": [
    {
     "name": "stdout",
     "output_type": "stream",
     "text": [
      "Effect size: 0.03\n",
      "Required sample size per group: 17165.46\n",
      "Required sample size per group: 17165.46\n"
     ]
    }
   ],
   "source": [
    "from statsmodels.stats.power import NormalIndPower\n",
    "from statsmodels.stats.proportion import proportions_ztest\n",
    "\n",
    "# We need to calculate effect size (a measure of magnitude) to determin sample size\n",
    "# using Cohen's H Formula standardised formula.\n",
    "effect_size = (p1 - p2) / ((p1 * (1 - p1) + p2 * (1 - p2)) / 2) ** 0.5\n",
    "# Calculate the required sample size\n",
    "analysis = NormalIndPower()\n",
    "sample_size = analysis.solve_power(effect_size=effect_size, power=power, alpha=alpha, ratio=1.0, alternative='two-sided')\n",
    "print(f'Effect size: {effect_size:.2f}')\n",
    "\n",
    "print(f'Required sample size per group: {sample_size:.2f}')\n",
    "\n",
    "print(f'Required sample size per group: {sample_size:.2f}')"
   ]
  },
  {
   "cell_type": "code",
   "execution_count": 15,
   "id": "67fdc137",
   "metadata": {
    "execution": {
     "iopub.execute_input": "2024-08-16T11:45:30.682328Z",
     "iopub.status.busy": "2024-08-16T11:45:30.681959Z",
     "iopub.status.idle": "2024-08-16T11:45:30.785533Z",
     "shell.execute_reply": "2024-08-16T11:45:30.784503Z"
    },
    "papermill": {
     "duration": 0.115302,
     "end_time": "2024-08-16T11:45:30.788079",
     "exception": false,
     "start_time": "2024-08-16T11:45:30.672777",
     "status": "completed"
    },
    "tags": []
   },
   "outputs": [],
   "source": [
    "# Set the random seed for reproducibility\n",
    "np.random.seed(45)\n",
    "\n",
    "# Sample 17165 observations per group\n",
    "df = (df.groupby(['group'])\n",
    "         .apply(lambda x: x.sample(n=17165, replace=False))\n",
    "         .reset_index(drop=True))"
   ]
  },
  {
   "cell_type": "code",
   "execution_count": 16,
   "id": "b4087fd3",
   "metadata": {
    "execution": {
     "iopub.execute_input": "2024-08-16T11:45:30.805208Z",
     "iopub.status.busy": "2024-08-16T11:45:30.804845Z",
     "iopub.status.idle": "2024-08-16T11:45:30.817338Z",
     "shell.execute_reply": "2024-08-16T11:45:30.816369Z"
    },
    "papermill": {
     "duration": 0.0234,
     "end_time": "2024-08-16T11:45:30.819355",
     "exception": false,
     "start_time": "2024-08-16T11:45:30.795955",
     "status": "completed"
    },
    "tags": []
   },
   "outputs": [
    {
     "data": {
      "text/html": [
       "<div>\n",
       "<style scoped>\n",
       "    .dataframe tbody tr th:only-of-type {\n",
       "        vertical-align: middle;\n",
       "    }\n",
       "\n",
       "    .dataframe tbody tr th {\n",
       "        vertical-align: top;\n",
       "    }\n",
       "\n",
       "    .dataframe thead th {\n",
       "        text-align: right;\n",
       "    }\n",
       "</style>\n",
       "<table border=\"1\" class=\"dataframe\">\n",
       "  <thead>\n",
       "    <tr style=\"text-align: right;\">\n",
       "      <th></th>\n",
       "      <th>user_id</th>\n",
       "      <th>timestamp</th>\n",
       "      <th>group</th>\n",
       "      <th>landing_page</th>\n",
       "      <th>converted</th>\n",
       "    </tr>\n",
       "  </thead>\n",
       "  <tbody>\n",
       "    <tr>\n",
       "      <th>0</th>\n",
       "      <td>807689</td>\n",
       "      <td>47:50.8</td>\n",
       "      <td>control</td>\n",
       "      <td>old_page</td>\n",
       "      <td>0</td>\n",
       "    </tr>\n",
       "    <tr>\n",
       "      <th>1</th>\n",
       "      <td>817401</td>\n",
       "      <td>00:36.8</td>\n",
       "      <td>control</td>\n",
       "      <td>old_page</td>\n",
       "      <td>1</td>\n",
       "    </tr>\n",
       "    <tr>\n",
       "      <th>2</th>\n",
       "      <td>652424</td>\n",
       "      <td>28:57.7</td>\n",
       "      <td>control</td>\n",
       "      <td>old_page</td>\n",
       "      <td>0</td>\n",
       "    </tr>\n",
       "    <tr>\n",
       "      <th>3</th>\n",
       "      <td>912117</td>\n",
       "      <td>41:07.2</td>\n",
       "      <td>control</td>\n",
       "      <td>old_page</td>\n",
       "      <td>0</td>\n",
       "    </tr>\n",
       "    <tr>\n",
       "      <th>4</th>\n",
       "      <td>671687</td>\n",
       "      <td>03:04.9</td>\n",
       "      <td>control</td>\n",
       "      <td>old_page</td>\n",
       "      <td>0</td>\n",
       "    </tr>\n",
       "    <tr>\n",
       "      <th>...</th>\n",
       "      <td>...</td>\n",
       "      <td>...</td>\n",
       "      <td>...</td>\n",
       "      <td>...</td>\n",
       "      <td>...</td>\n",
       "    </tr>\n",
       "    <tr>\n",
       "      <th>34325</th>\n",
       "      <td>724420</td>\n",
       "      <td>47:05.8</td>\n",
       "      <td>treatment</td>\n",
       "      <td>new_page</td>\n",
       "      <td>0</td>\n",
       "    </tr>\n",
       "    <tr>\n",
       "      <th>34326</th>\n",
       "      <td>646390</td>\n",
       "      <td>07:56.9</td>\n",
       "      <td>treatment</td>\n",
       "      <td>new_page</td>\n",
       "      <td>0</td>\n",
       "    </tr>\n",
       "    <tr>\n",
       "      <th>34327</th>\n",
       "      <td>838051</td>\n",
       "      <td>35:19.1</td>\n",
       "      <td>treatment</td>\n",
       "      <td>new_page</td>\n",
       "      <td>0</td>\n",
       "    </tr>\n",
       "    <tr>\n",
       "      <th>34328</th>\n",
       "      <td>702806</td>\n",
       "      <td>07:35.5</td>\n",
       "      <td>treatment</td>\n",
       "      <td>new_page</td>\n",
       "      <td>0</td>\n",
       "    </tr>\n",
       "    <tr>\n",
       "      <th>34329</th>\n",
       "      <td>828432</td>\n",
       "      <td>47:52.8</td>\n",
       "      <td>treatment</td>\n",
       "      <td>new_page</td>\n",
       "      <td>1</td>\n",
       "    </tr>\n",
       "  </tbody>\n",
       "</table>\n",
       "<p>34330 rows × 5 columns</p>\n",
       "</div>"
      ],
      "text/plain": [
       "       user_id timestamp      group landing_page  converted\n",
       "0       807689   47:50.8    control     old_page          0\n",
       "1       817401   00:36.8    control     old_page          1\n",
       "2       652424   28:57.7    control     old_page          0\n",
       "3       912117   41:07.2    control     old_page          0\n",
       "4       671687   03:04.9    control     old_page          0\n",
       "...        ...       ...        ...          ...        ...\n",
       "34325   724420   47:05.8  treatment     new_page          0\n",
       "34326   646390   07:56.9  treatment     new_page          0\n",
       "34327   838051   35:19.1  treatment     new_page          0\n",
       "34328   702806   07:35.5  treatment     new_page          0\n",
       "34329   828432   47:52.8  treatment     new_page          1\n",
       "\n",
       "[34330 rows x 5 columns]"
      ]
     },
     "execution_count": 16,
     "metadata": {},
     "output_type": "execute_result"
    }
   ],
   "source": [
    "df"
   ]
  },
  {
   "cell_type": "markdown",
   "id": "101a8bc6",
   "metadata": {
    "papermill": {
     "duration": 0.007642,
     "end_time": "2024-08-16T11:45:30.835077",
     "exception": false,
     "start_time": "2024-08-16T11:45:30.827435",
     "status": "completed"
    },
    "tags": []
   },
   "source": [
    "# no more users in the wrong testing group"
   ]
  },
  {
   "cell_type": "code",
   "execution_count": 17,
   "id": "14d6fd18",
   "metadata": {
    "execution": {
     "iopub.execute_input": "2024-08-16T11:45:30.852648Z",
     "iopub.status.busy": "2024-08-16T11:45:30.851995Z",
     "iopub.status.idle": "2024-08-16T11:45:30.869240Z",
     "shell.execute_reply": "2024-08-16T11:45:30.868387Z"
    },
    "papermill": {
     "duration": 0.028593,
     "end_time": "2024-08-16T11:45:30.871464",
     "exception": false,
     "start_time": "2024-08-16T11:45:30.842871",
     "status": "completed"
    },
    "tags": []
   },
   "outputs": [],
   "source": [
    "# Collect data to get total observations and total converted per group\n",
    "df = (df.groupby('group')\n",
    "       .agg(total_observations=('user_id', 'size'),\n",
    "            total_converted=('converted', 'sum'))\n",
    "       .reset_index())\n",
    "\n",
    "# Extract counts\n",
    "conv = df['total_converted'].values\n",
    "n = df['total_observations'].values\n",
    "\n",
    "# Conducts Z-Test to compare the mean of the two samples and see if they differ significantly\n",
    "z_stat, p_value = proportions_ztest(count=conv, nobs=n)"
   ]
  },
  {
   "cell_type": "code",
   "execution_count": 18,
   "id": "0a05f296",
   "metadata": {
    "execution": {
     "iopub.execute_input": "2024-08-16T11:45:30.889268Z",
     "iopub.status.busy": "2024-08-16T11:45:30.888632Z",
     "iopub.status.idle": "2024-08-16T11:45:30.893629Z",
     "shell.execute_reply": "2024-08-16T11:45:30.892715Z"
    },
    "papermill": {
     "duration": 0.016374,
     "end_time": "2024-08-16T11:45:30.895987",
     "exception": false,
     "start_time": "2024-08-16T11:45:30.879613",
     "status": "completed"
    },
    "tags": []
   },
   "outputs": [
    {
     "name": "stdout",
     "output_type": "stream",
     "text": [
      "Z-statistic: -0.43399652860477944\n",
      "P-value: 0.664290961882086\n"
     ]
    }
   ],
   "source": [
    "print(\"Z-statistic:\", z_stat)\n",
    "print(\"P-value:\", p_value)"
   ]
  },
  {
   "cell_type": "markdown",
   "id": "ebeed3e7",
   "metadata": {
    "papermill": {
     "duration": 0.007777,
     "end_time": "2024-08-16T11:45:30.911867",
     "exception": false,
     "start_time": "2024-08-16T11:45:30.904090",
     "status": "completed"
    },
    "tags": []
   },
   {
   "source": [
    "# The P-Value has a value of 0.66, so we can't reject the null hypothesis.",
    "# There is no significant difference between the two pages.",
    "# 3. Conclusion",
    "# After performing the AB-Test on the two separate landing pages, we found that there is no significant difference in conversion rates.",
    "# We should keep the original landing page and do further research on possible webpage improvements for better KPI performance."
   ]
}
 "metadata": {
  "kaggle": {
   "accelerator": "none",
   "dataSources": [
    {
     "datasetId": 2133464,
     "sourceId": 3548178,
     "sourceType": "datasetVersion"
    }
   ],
   "dockerImageVersionId": 30746,
   "isGpuEnabled": false,
   "isInternetEnabled": true,
   "language": "python",
   "sourceType": "notebook"
  },
  "kernelspec": {
   "display_name": "Python 3",
   "language": "python",
   "name": "python3"
  },
  "language_info": {
   "codemirror_mode": {
    "name": "ipython",
    "version": 3
   },
   "file_extension": ".py",
   "mimetype": "text/x-python",
   "name": "python",
   "nbconvert_exporter": "python",
   "pygments_lexer": "ipython3",
   "version": "3.10.13"
  },
  "papermill": {
   "default_parameters": {},
   "duration": 6.473555,
   "end_time": "2024-08-16T11:45:31.440120",
   "environment_variables": {},
   "exception": null,
   "input_path": "__notebook__.ipynb",
   "output_path": "__notebook__.ipynb",
   "parameters": {},
   "start_time": "2024-08-16T11:45:24.966565",
   "version": "2.5.0"
  }
 },
 "nbformat": 4,
 "nbformat_minor": 5
}
