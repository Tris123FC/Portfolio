{
 "cells": [
  {
   "cell_type": "code",
   "execution_count": 1,
   "id": "9bf1e506",
   "metadata": {
    "_cell_guid": "b1076dfc-b9ad-4769-8c92-a6c4dae69d19",
    "_uuid": "8f2839f25d086af736a60e9eeb907d3b93b6e0e5",
    "execution": {
     "iopub.execute_input": "2024-09-06T12:20:45.125585Z",
     "iopub.status.busy": "2024-09-06T12:20:45.125096Z",
     "iopub.status.idle": "2024-09-06T12:20:46.636222Z",
     "shell.execute_reply": "2024-09-06T12:20:46.634860Z"
    },
    "papermill": {
     "duration": 1.526082,
     "end_time": "2024-09-06T12:20:46.639418",
     "exception": false,
     "start_time": "2024-09-06T12:20:45.113336",
     "status": "completed"
    },
    "tags": []
   },
   "outputs": [],
   "source": [
    "import numpy as np # linear algebra\n",
    "import pandas as pd # data processing, CSV file I/O (e.g. pd.read_csv)\n",
    "import os\n",
    "import warnings\n",
    "warnings.filterwarnings('ignore')\n",
    "\n",
    "paths = []\n",
    "for dirname, _, filenames in os.walk('/kaggle/input'):\n",
    "    for filename in filenames:\n",
    "        x = os.path.join(dirname, filename)\n",
    "        paths.append(x)\n",
    "\n",
    "df = pd.read_csv(paths[1])"
   ]
  },
  {
   "cell_type": "markdown",
   "id": "aa67c9f2",
   "metadata": {
    "papermill": {
     "duration": 0.010679,
     "end_time": "2024-09-06T12:20:46.659448",
     "exception": false,
     "start_time": "2024-09-06T12:20:46.648769",
     "status": "completed"
    },
    "tags": []
   },
   "source": [
    "# 1. Cleaning and Organising"
   ]
  },
  {
   "cell_type": "markdown",
   "id": "b13ec3ae",
   "metadata": {
    "papermill": {
     "duration": 0.00941,
     "end_time": "2024-09-06T12:20:46.678058",
     "exception": false,
     "start_time": "2024-09-06T12:20:46.668648",
     "status": "completed"
    },
    "tags": []
   },
   "source": [
    "# 1. 1. Quick Look at the Data"
   ]
  },
  {
   "cell_type": "code",
   "execution_count": 2,
   "id": "35006bea",
   "metadata": {
    "execution": {
     "iopub.execute_input": "2024-09-06T12:20:46.698001Z",
     "iopub.status.busy": "2024-09-06T12:20:46.697555Z",
     "iopub.status.idle": "2024-09-06T12:20:46.722208Z",
     "shell.execute_reply": "2024-09-06T12:20:46.721034Z"
    },
    "papermill": {
     "duration": 0.037558,
     "end_time": "2024-09-06T12:20:46.724813",
     "exception": false,
     "start_time": "2024-09-06T12:20:46.687255",
     "status": "completed"
    },
    "tags": []
   },
   "outputs": [
    {
     "data": {
      "text/html": [
       "<div>\n",
       "<style scoped>\n",
       "    .dataframe tbody tr th:only-of-type {\n",
       "        vertical-align: middle;\n",
       "    }\n",
       "\n",
       "    .dataframe tbody tr th {\n",
       "        vertical-align: top;\n",
       "    }\n",
       "\n",
       "    .dataframe thead th {\n",
       "        text-align: right;\n",
       "    }\n",
       "</style>\n",
       "<table border=\"1\" class=\"dataframe\">\n",
       "  <thead>\n",
       "    <tr style=\"text-align: right;\">\n",
       "      <th></th>\n",
       "      <th>user_id</th>\n",
       "      <th>timestamp</th>\n",
       "      <th>group</th>\n",
       "      <th>landing_page</th>\n",
       "      <th>converted</th>\n",
       "    </tr>\n",
       "  </thead>\n",
       "  <tbody>\n",
       "    <tr>\n",
       "      <th>0</th>\n",
       "      <td>851104</td>\n",
       "      <td>11:48.6</td>\n",
       "      <td>control</td>\n",
       "      <td>old_page</td>\n",
       "      <td>0</td>\n",
       "    </tr>\n",
       "    <tr>\n",
       "      <th>1</th>\n",
       "      <td>804228</td>\n",
       "      <td>01:45.2</td>\n",
       "      <td>control</td>\n",
       "      <td>old_page</td>\n",
       "      <td>0</td>\n",
       "    </tr>\n",
       "    <tr>\n",
       "      <th>2</th>\n",
       "      <td>661590</td>\n",
       "      <td>55:06.2</td>\n",
       "      <td>treatment</td>\n",
       "      <td>new_page</td>\n",
       "      <td>0</td>\n",
       "    </tr>\n",
       "    <tr>\n",
       "      <th>3</th>\n",
       "      <td>853541</td>\n",
       "      <td>28:03.1</td>\n",
       "      <td>treatment</td>\n",
       "      <td>new_page</td>\n",
       "      <td>0</td>\n",
       "    </tr>\n",
       "    <tr>\n",
       "      <th>4</th>\n",
       "      <td>864975</td>\n",
       "      <td>52:26.2</td>\n",
       "      <td>control</td>\n",
       "      <td>old_page</td>\n",
       "      <td>1</td>\n",
       "    </tr>\n",
       "  </tbody>\n",
       "</table>\n",
       "</div>"
      ],
      "text/plain": [
       "   user_id timestamp      group landing_page  converted\n",
       "0   851104   11:48.6    control     old_page          0\n",
       "1   804228   01:45.2    control     old_page          0\n",
       "2   661590   55:06.2  treatment     new_page          0\n",
       "3   853541   28:03.1  treatment     new_page          0\n",
       "4   864975   52:26.2    control     old_page          1"
      ]
     },
     "execution_count": 2,
     "metadata": {},
     "output_type": "execute_result"
    }
   ],
   "source": [
    "df.head(5)"
   ]
  },
  {
   "cell_type": "code",
   "execution_count": 3,
   "id": "3f0e14fd",
   "metadata": {
    "execution": {
     "iopub.execute_input": "2024-09-06T12:20:46.745820Z",
     "iopub.status.busy": "2024-09-06T12:20:46.745020Z",
     "iopub.status.idle": "2024-09-06T12:20:46.753121Z",
     "shell.execute_reply": "2024-09-06T12:20:46.751695Z"
    },
    "papermill": {
     "duration": 0.022054,
     "end_time": "2024-09-06T12:20:46.756026",
     "exception": false,
     "start_time": "2024-09-06T12:20:46.733972",
     "status": "completed"
    },
    "tags": []
   },
   "outputs": [
    {
     "data": {
      "text/plain": [
       "(294480, 5)"
      ]
     },
     "execution_count": 3,
     "metadata": {},
     "output_type": "execute_result"
    }
   ],
   "source": [
    "df.shape"
   ]
  },
  {
   "cell_type": "code",
   "execution_count": 4,
   "id": "e3f0b21b",
   "metadata": {
    "execution": {
     "iopub.execute_input": "2024-09-06T12:20:46.777747Z",
     "iopub.status.busy": "2024-09-06T12:20:46.777370Z",
     "iopub.status.idle": "2024-09-06T12:20:46.821892Z",
     "shell.execute_reply": "2024-09-06T12:20:46.820653Z"
    },
    "papermill": {
     "duration": 0.058996,
     "end_time": "2024-09-06T12:20:46.824707",
     "exception": false,
     "start_time": "2024-09-06T12:20:46.765711",
     "status": "completed"
    },
    "tags": []
   },
   "outputs": [
    {
     "data": {
      "text/html": [
       "<div>\n",
       "<style scoped>\n",
       "    .dataframe tbody tr th:only-of-type {\n",
       "        vertical-align: middle;\n",
       "    }\n",
       "\n",
       "    .dataframe tbody tr th {\n",
       "        vertical-align: top;\n",
       "    }\n",
       "\n",
       "    .dataframe thead th {\n",
       "        text-align: right;\n",
       "    }\n",
       "</style>\n",
       "<table border=\"1\" class=\"dataframe\">\n",
       "  <thead>\n",
       "    <tr style=\"text-align: right;\">\n",
       "      <th></th>\n",
       "      <th>user_id</th>\n",
       "      <th>converted</th>\n",
       "    </tr>\n",
       "  </thead>\n",
       "  <tbody>\n",
       "    <tr>\n",
       "      <th>count</th>\n",
       "      <td>294480.000000</td>\n",
       "      <td>294480.000000</td>\n",
       "    </tr>\n",
       "    <tr>\n",
       "      <th>mean</th>\n",
       "      <td>787973.538896</td>\n",
       "      <td>0.119658</td>\n",
       "    </tr>\n",
       "    <tr>\n",
       "      <th>std</th>\n",
       "      <td>91210.917091</td>\n",
       "      <td>0.324562</td>\n",
       "    </tr>\n",
       "    <tr>\n",
       "      <th>min</th>\n",
       "      <td>630000.000000</td>\n",
       "      <td>0.000000</td>\n",
       "    </tr>\n",
       "    <tr>\n",
       "      <th>25%</th>\n",
       "      <td>709031.750000</td>\n",
       "      <td>0.000000</td>\n",
       "    </tr>\n",
       "    <tr>\n",
       "      <th>50%</th>\n",
       "      <td>787932.500000</td>\n",
       "      <td>0.000000</td>\n",
       "    </tr>\n",
       "    <tr>\n",
       "      <th>75%</th>\n",
       "      <td>866911.250000</td>\n",
       "      <td>0.000000</td>\n",
       "    </tr>\n",
       "    <tr>\n",
       "      <th>max</th>\n",
       "      <td>945999.000000</td>\n",
       "      <td>1.000000</td>\n",
       "    </tr>\n",
       "  </tbody>\n",
       "</table>\n",
       "</div>"
      ],
      "text/plain": [
       "             user_id      converted\n",
       "count  294480.000000  294480.000000\n",
       "mean   787973.538896       0.119658\n",
       "std     91210.917091       0.324562\n",
       "min    630000.000000       0.000000\n",
       "25%    709031.750000       0.000000\n",
       "50%    787932.500000       0.000000\n",
       "75%    866911.250000       0.000000\n",
       "max    945999.000000       1.000000"
      ]
     },
     "execution_count": 4,
     "metadata": {},
     "output_type": "execute_result"
    }
   ],
   "source": [
    "df.describe()"
   ]
  },
  {
   "cell_type": "code",
   "execution_count": 5,
   "id": "cd2e6c97",
   "metadata": {
    "execution": {
     "iopub.execute_input": "2024-09-06T12:20:46.845388Z",
     "iopub.status.busy": "2024-09-06T12:20:46.844990Z",
     "iopub.status.idle": "2024-09-06T12:20:46.950565Z",
     "shell.execute_reply": "2024-09-06T12:20:46.949204Z"
    },
    "papermill": {
     "duration": 0.119082,
     "end_time": "2024-09-06T12:20:46.953244",
     "exception": false,
     "start_time": "2024-09-06T12:20:46.834162",
     "status": "completed"
    },
    "tags": []
   },
   "outputs": [],
   "source": [
    "#Check for NA Values - Print list of columns and number of nan values\n",
    "df_columns_mask= df.isna().any(axis=0)\n",
    "columns = df.columns[df_columns_mask]\n",
    "for col in columns:\n",
    "    print(f\"Column {col} has {new_df[col].isna().sum()} NaN values\")"
   ]
  },
  {
   "cell_type": "markdown",
   "id": "2cb1ef1d",
   "metadata": {
    "papermill": {
     "duration": 0.009083,
     "end_time": "2024-09-06T12:20:46.973582",
     "exception": false,
     "start_time": "2024-09-06T12:20:46.964499",
     "status": "completed"
    },
    "tags": []
   },
   "source": [
    "# There are no NA values in the dataset."
   ]
  },
  {
   "cell_type": "code",
   "execution_count": 6,
   "id": "86738225",
   "metadata": {
    "execution": {
     "iopub.execute_input": "2024-09-06T12:20:46.994234Z",
     "iopub.status.busy": "2024-09-06T12:20:46.993846Z",
     "iopub.status.idle": "2024-09-06T12:20:47.036516Z",
     "shell.execute_reply": "2024-09-06T12:20:47.035236Z"
    },
    "papermill": {
     "duration": 0.056054,
     "end_time": "2024-09-06T12:20:47.039142",
     "exception": false,
     "start_time": "2024-09-06T12:20:46.983088",
     "status": "completed"
    },
    "tags": []
   },
   "outputs": [
    {
     "name": "stdout",
     "output_type": "stream",
     "text": [
      "(294480, 5)\n",
      "(286690, 5)\n"
     ]
    }
   ],
   "source": [
    "# removed duplicates\n",
    "print(df.shape)\n",
    "df = df.drop_duplicates(subset= 'user_id', keep= False)\n",
    "print(df.shape)"
   ]
  },
  {
   "cell_type": "markdown",
   "id": "8a9de263",
   "metadata": {
    "papermill": {
     "duration": 0.014401,
     "end_time": "2024-09-06T12:20:47.064873",
     "exception": false,
     "start_time": "2024-09-06T12:20:47.050472",
     "status": "completed"
    },
    "tags": []
   },
   "source": [
    "# There are no more duplicate values."
   ]
  },
  {
   "cell_type": "markdown",
   "id": "768a406b",
   "metadata": {
    "papermill": {
     "duration": 0.010728,
     "end_time": "2024-09-06T12:20:47.090100",
     "exception": false,
     "start_time": "2024-09-06T12:20:47.079372",
     "status": "completed"
    },
    "tags": []
   },
   "source": [
    "# 1. 2. Group Data by Landing Page and Groups"
   ]
  },
  {
   "cell_type": "code",
   "execution_count": 7,
   "id": "f19aa4f6",
   "metadata": {
    "execution": {
     "iopub.execute_input": "2024-09-06T12:20:47.118410Z",
     "iopub.status.busy": "2024-09-06T12:20:47.117985Z",
     "iopub.status.idle": "2024-09-06T12:20:47.290144Z",
     "shell.execute_reply": "2024-09-06T12:20:47.288607Z"
    },
    "papermill": {
     "duration": 0.191304,
     "end_time": "2024-09-06T12:20:47.294082",
     "exception": false,
     "start_time": "2024-09-06T12:20:47.102778",
     "status": "completed"
    },
    "tags": []
   },
   "outputs": [
    {
     "data": {
      "text/html": [
       "<div>\n",
       "<style scoped>\n",
       "    .dataframe tbody tr th:only-of-type {\n",
       "        vertical-align: middle;\n",
       "    }\n",
       "\n",
       "    .dataframe tbody tr th {\n",
       "        vertical-align: top;\n",
       "    }\n",
       "\n",
       "    .dataframe thead th {\n",
       "        text-align: right;\n",
       "    }\n",
       "</style>\n",
       "<table border=\"1\" class=\"dataframe\">\n",
       "  <thead>\n",
       "    <tr style=\"text-align: right;\">\n",
       "      <th></th>\n",
       "      <th></th>\n",
       "      <th>landing_page</th>\n",
       "    </tr>\n",
       "    <tr>\n",
       "      <th>landing_page</th>\n",
       "      <th>group</th>\n",
       "      <th></th>\n",
       "    </tr>\n",
       "  </thead>\n",
       "  <tbody>\n",
       "    <tr>\n",
       "      <th>new_page</th>\n",
       "      <th>treatment</th>\n",
       "      <td>143397</td>\n",
       "    </tr>\n",
       "    <tr>\n",
       "      <th>old_page</th>\n",
       "      <th>control</th>\n",
       "      <td>143293</td>\n",
       "    </tr>\n",
       "  </tbody>\n",
       "</table>\n",
       "</div>"
      ],
      "text/plain": [
       "                        landing_page\n",
       "landing_page group                  \n",
       "new_page     treatment        143397\n",
       "old_page     control          143293"
      ]
     },
     "execution_count": 7,
     "metadata": {},
     "output_type": "execute_result"
    }
   ],
   "source": [
    "#count observations for each landing page\n",
    "grouped = df.groupby(['landing_page', 'group']).agg({'landing_page': lambda x: x.value_counts()})\n",
    "grouped"
   ]
  },
  {
   "cell_type": "code",
   "execution_count": 8,
   "id": "fe9f43ed",
   "metadata": {
    "execution": {
     "iopub.execute_input": "2024-09-06T12:20:47.321135Z",
     "iopub.status.busy": "2024-09-06T12:20:47.320030Z",
     "iopub.status.idle": "2024-09-06T12:20:47.417531Z",
     "shell.execute_reply": "2024-09-06T12:20:47.416292Z"
    },
    "papermill": {
     "duration": 0.113949,
     "end_time": "2024-09-06T12:20:47.420347",
     "exception": false,
     "start_time": "2024-09-06T12:20:47.306398",
     "status": "completed"
    },
    "tags": []
   },
   "outputs": [
    {
     "data": {
      "text/html": [
       "<div>\n",
       "<style scoped>\n",
       "    .dataframe tbody tr th:only-of-type {\n",
       "        vertical-align: middle;\n",
       "    }\n",
       "\n",
       "    .dataframe tbody tr th {\n",
       "        vertical-align: top;\n",
       "    }\n",
       "\n",
       "    .dataframe thead th {\n",
       "        text-align: right;\n",
       "    }\n",
       "</style>\n",
       "<table border=\"1\" class=\"dataframe\">\n",
       "  <thead>\n",
       "    <tr style=\"text-align: right;\">\n",
       "      <th></th>\n",
       "      <th></th>\n",
       "      <th>converted</th>\n",
       "    </tr>\n",
       "    <tr>\n",
       "      <th>landing_page</th>\n",
       "      <th>group</th>\n",
       "      <th></th>\n",
       "    </tr>\n",
       "  </thead>\n",
       "  <tbody>\n",
       "    <tr>\n",
       "      <th>new_page</th>\n",
       "      <th>treatment</th>\n",
       "      <td>17025</td>\n",
       "    </tr>\n",
       "    <tr>\n",
       "      <th>old_page</th>\n",
       "      <th>control</th>\n",
       "      <td>17220</td>\n",
       "    </tr>\n",
       "  </tbody>\n",
       "</table>\n",
       "</div>"
      ],
      "text/plain": [
       "                        converted\n",
       "landing_page group               \n",
       "new_page     treatment      17025\n",
       "old_page     control        17220"
      ]
     },
     "execution_count": 8,
     "metadata": {},
     "output_type": "execute_result"
    }
   ],
   "source": [
    "grouped = df.groupby(['landing_page','group']).agg({'converted':'sum'})\n",
    "grouped"
   ]
  },
  {
   "cell_type": "code",
   "execution_count": 9,
   "id": "382cd66e",
   "metadata": {
    "execution": {
     "iopub.execute_input": "2024-09-06T12:20:47.445509Z",
     "iopub.status.busy": "2024-09-06T12:20:47.444419Z",
     "iopub.status.idle": "2024-09-06T12:20:47.585953Z",
     "shell.execute_reply": "2024-09-06T12:20:47.584773Z"
    },
    "papermill": {
     "duration": 0.155785,
     "end_time": "2024-09-06T12:20:47.588509",
     "exception": false,
     "start_time": "2024-09-06T12:20:47.432724",
     "status": "completed"
    },
    "tags": []
   },
   "outputs": [
    {
     "data": {
      "text/html": [
       "<div>\n",
       "<style scoped>\n",
       "    .dataframe tbody tr th:only-of-type {\n",
       "        vertical-align: middle;\n",
       "    }\n",
       "\n",
       "    .dataframe tbody tr th {\n",
       "        vertical-align: top;\n",
       "    }\n",
       "\n",
       "    .dataframe thead th {\n",
       "        text-align: right;\n",
       "    }\n",
       "</style>\n",
       "<table border=\"1\" class=\"dataframe\">\n",
       "  <thead>\n",
       "    <tr style=\"text-align: right;\">\n",
       "      <th></th>\n",
       "      <th></th>\n",
       "      <th>landing_page</th>\n",
       "    </tr>\n",
       "    <tr>\n",
       "      <th>landing_page</th>\n",
       "      <th>group</th>\n",
       "      <th></th>\n",
       "    </tr>\n",
       "  </thead>\n",
       "  <tbody>\n",
       "    <tr>\n",
       "      <th>new_page</th>\n",
       "      <th>treatment</th>\n",
       "      <td>143397</td>\n",
       "    </tr>\n",
       "    <tr>\n",
       "      <th>old_page</th>\n",
       "      <th>control</th>\n",
       "      <td>143293</td>\n",
       "    </tr>\n",
       "  </tbody>\n",
       "</table>\n",
       "</div>"
      ],
      "text/plain": [
       "                        landing_page\n",
       "landing_page group                  \n",
       "new_page     treatment        143397\n",
       "old_page     control          143293"
      ]
     },
     "execution_count": 9,
     "metadata": {},
     "output_type": "execute_result"
    }
   ],
   "source": [
    "grouped = df.groupby(['landing_page','group']).agg({'landing_page': lambda x: x.value_counts()})\n",
    "grouped"
   ]
  },
  {
   "cell_type": "code",
   "execution_count": 10,
   "id": "c4a5884e",
   "metadata": {
    "execution": {
     "iopub.execute_input": "2024-09-06T12:20:47.610556Z",
     "iopub.status.busy": "2024-09-06T12:20:47.610112Z",
     "iopub.status.idle": "2024-09-06T12:20:47.668748Z",
     "shell.execute_reply": "2024-09-06T12:20:47.667662Z"
    },
    "papermill": {
     "duration": 0.072565,
     "end_time": "2024-09-06T12:20:47.671244",
     "exception": false,
     "start_time": "2024-09-06T12:20:47.598679",
     "status": "completed"
    },
    "tags": []
   },
   "outputs": [
    {
     "data": {
      "text/html": [
       "<div>\n",
       "<style scoped>\n",
       "    .dataframe tbody tr th:only-of-type {\n",
       "        vertical-align: middle;\n",
       "    }\n",
       "\n",
       "    .dataframe tbody tr th {\n",
       "        vertical-align: top;\n",
       "    }\n",
       "\n",
       "    .dataframe thead th {\n",
       "        text-align: right;\n",
       "    }\n",
       "</style>\n",
       "<table border=\"1\" class=\"dataframe\">\n",
       "  <thead>\n",
       "    <tr style=\"text-align: right;\">\n",
       "      <th></th>\n",
       "      <th>proportion</th>\n",
       "    </tr>\n",
       "    <tr>\n",
       "      <th>landing_page</th>\n",
       "      <th></th>\n",
       "    </tr>\n",
       "  </thead>\n",
       "  <tbody>\n",
       "    <tr>\n",
       "      <th>new_page</th>\n",
       "      <td>50.018138</td>\n",
       "    </tr>\n",
       "    <tr>\n",
       "      <th>old_page</th>\n",
       "      <td>49.981862</td>\n",
       "    </tr>\n",
       "  </tbody>\n",
       "</table>\n",
       "</div>"
      ],
      "text/plain": [
       "              proportion\n",
       "landing_page            \n",
       "new_page       50.018138\n",
       "old_page       49.981862"
      ]
     },
     "execution_count": 10,
     "metadata": {},
     "output_type": "execute_result"
    }
   ],
   "source": [
    "pd.DataFrame(df.loc[:,'landing_page'].value_counts(normalize = True) * 100)"
   ]
  },
  {
   "cell_type": "code",
   "execution_count": 11,
   "id": "d9c62977",
   "metadata": {
    "execution": {
     "iopub.execute_input": "2024-09-06T12:20:47.693900Z",
     "iopub.status.busy": "2024-09-06T12:20:47.693453Z",
     "iopub.status.idle": "2024-09-06T12:20:47.779249Z",
     "shell.execute_reply": "2024-09-06T12:20:47.778070Z"
    },
    "papermill": {
     "duration": 0.100154,
     "end_time": "2024-09-06T12:20:47.781929",
     "exception": false,
     "start_time": "2024-09-06T12:20:47.681775",
     "status": "completed"
    },
    "tags": []
   },
   "outputs": [
    {
     "data": {
      "text/html": [
       "<div>\n",
       "<style scoped>\n",
       "    .dataframe tbody tr th:only-of-type {\n",
       "        vertical-align: middle;\n",
       "    }\n",
       "\n",
       "    .dataframe tbody tr th {\n",
       "        vertical-align: top;\n",
       "    }\n",
       "\n",
       "    .dataframe thead th {\n",
       "        text-align: right;\n",
       "    }\n",
       "</style>\n",
       "<table border=\"1\" class=\"dataframe\">\n",
       "  <thead>\n",
       "    <tr style=\"text-align: right;\">\n",
       "      <th></th>\n",
       "      <th></th>\n",
       "      <th>converted</th>\n",
       "    </tr>\n",
       "    <tr>\n",
       "      <th>group</th>\n",
       "      <th>landing_page</th>\n",
       "      <th></th>\n",
       "    </tr>\n",
       "  </thead>\n",
       "  <tbody>\n",
       "    <tr>\n",
       "      <th>control</th>\n",
       "      <th>old_page</th>\n",
       "      <td>0.120173</td>\n",
       "    </tr>\n",
       "    <tr>\n",
       "      <th>treatment</th>\n",
       "      <th>new_page</th>\n",
       "      <td>0.118726</td>\n",
       "    </tr>\n",
       "  </tbody>\n",
       "</table>\n",
       "</div>"
      ],
      "text/plain": [
       "                        converted\n",
       "group     landing_page           \n",
       "control   old_page       0.120173\n",
       "treatment new_page       0.118726"
      ]
     },
     "execution_count": 11,
     "metadata": {},
     "output_type": "execute_result"
    }
   ],
   "source": [
    "grouped = df.groupby(['group','landing_page']).agg({'converted': 'mean'})\n",
    "grouped"
   ]
  },
  {
   "cell_type": "markdown",
   "id": "b1a90cbe",
   "metadata": {
    "papermill": {
     "duration": 0.010293,
     "end_time": "2024-09-06T12:20:47.802857",
     "exception": false,
     "start_time": "2024-09-06T12:20:47.792564",
     "status": "completed"
    },
    "tags": []
   },
   "source": [
    "# Old page and new page have conversion rate close to 12%\n"
   ]
  },
  {
   "cell_type": "markdown",
   "id": "3108414c",
   "metadata": {
    "papermill": {
     "duration": 0.010228,
     "end_time": "2024-09-06T12:20:47.823568",
     "exception": false,
     "start_time": "2024-09-06T12:20:47.813340",
     "status": "completed"
    },
    "tags": []
   },
   "source": [
    "# 2. Testing"
   ]
  },
  {
   "cell_type": "markdown",
   "id": "29937765",
   "metadata": {
    "papermill": {
     "duration": 0.010092,
     "end_time": "2024-09-06T12:20:47.844168",
     "exception": false,
     "start_time": "2024-09-06T12:20:47.834076",
     "status": "completed"
    },
    "tags": []
   },
   "source": [
    "#  H0: There is no significant difference between the two sample distributions.\n",
    "    The conversion rates are identical.\n",
    "#  H1: There is a significant difference between the two sample distributions.\n",
    "    The new landing page has a better conversion rate."
   ]
  },
  {
   "cell_type": "markdown",
   "id": "29c85e4f",
   "metadata": {
    "papermill": {
     "duration": 0.010181,
     "end_time": "2024-09-06T12:20:47.864849",
     "exception": false,
     "start_time": "2024-09-06T12:20:47.854668",
     "status": "completed"
    },
    "tags": []
   },
   "source": [
    "# 2.1 Using Power Analysis to Compare Two Means"
   ]
  },
  {
   "cell_type": "code",
   "execution_count": 12,
   "id": "8197fb90",
   "metadata": {
    "execution": {
     "iopub.execute_input": "2024-09-06T12:20:47.887559Z",
     "iopub.status.busy": "2024-09-06T12:20:47.887109Z",
     "iopub.status.idle": "2024-09-06T12:20:49.313801Z",
     "shell.execute_reply": "2024-09-06T12:20:49.312591Z"
    },
    "papermill": {
     "duration": 1.441548,
     "end_time": "2024-09-06T12:20:49.316810",
     "exception": false,
     "start_time": "2024-09-06T12:20:47.875262",
     "status": "completed"
    },
    "tags": []
   },
   "outputs": [],
   "source": [
    "from statsmodels.stats.proportion import proportions_ztest\n",
    "from statsmodels.stats.power import NormalIndPower\n",
    "\n",
    "#parameters\n",
    "# p1 is the minimum detectable effect we want( 1% conversion increase)\n",
    "p1 = 0.13\n",
    "p2 = 0.12\n",
    "#power is the probability of safely rejecting the null\n",
    "power = 0.8\n",
    "#alpha is the probability of falsely rejecting the null\n",
    "alpha = 0.05"
   ]
  },
  {
   "cell_type": "code",
   "execution_count": 13,
   "id": "84cb14ac",
   "metadata": {
    "execution": {
     "iopub.execute_input": "2024-09-06T12:20:49.340836Z",
     "iopub.status.busy": "2024-09-06T12:20:49.339957Z",
     "iopub.status.idle": "2024-09-06T12:20:49.370034Z",
     "shell.execute_reply": "2024-09-06T12:20:49.368834Z"
    },
    "papermill": {
     "duration": 0.045287,
     "end_time": "2024-09-06T12:20:49.372915",
     "exception": false,
     "start_time": "2024-09-06T12:20:49.327628",
     "status": "completed"
    },
    "tags": []
   },
   "outputs": [
    {
     "name": "stdout",
     "output_type": "stream",
     "text": [
      "Effect size: 0.03\n",
      "Required sample size per group: 17165.46\n",
      "Required sample size per group: 17165.46\n"
     ]
    }
   ],
   "source": [
    "from statsmodels.stats.power import NormalIndPower\n",
    "from statsmodels.stats.proportion import proportions_ztest\n",
    "\n",
    "# We need to calculate effect size (a measure of magnitude) to determin sample size\n",
    "# using Cohen's H Formula standardised formula.\n",
    "effect_size = (p1 - p2) / ((p1 * (1 - p1) + p2 * (1 - p2)) / 2) ** 0.5\n",
    "# Calculate the required sample size\n",
    "analysis = NormalIndPower()\n",
    "sample_size = analysis.solve_power(effect_size=effect_size, power=power, alpha=alpha, ratio=1.0, alternative='two-sided')\n",
    "print(f'Effect size: {effect_size:.2f}')\n",
    "\n",
    "print(f'Required sample size per group: {sample_size:.2f}')\n",
    "\n",
    "print(f'Required sample size per group: {sample_size:.2f}')"
   ]
  },
  {
   "cell_type": "code",
   "execution_count": 14,
   "id": "4ed46902",
   "metadata": {
    "execution": {
     "iopub.execute_input": "2024-09-06T12:20:49.397275Z",
     "iopub.status.busy": "2024-09-06T12:20:49.396853Z",
     "iopub.status.idle": "2024-09-06T12:20:49.514697Z",
     "shell.execute_reply": "2024-09-06T12:20:49.513680Z"
    },
    "papermill": {
     "duration": 0.132948,
     "end_time": "2024-09-06T12:20:49.517581",
     "exception": false,
     "start_time": "2024-09-06T12:20:49.384633",
     "status": "completed"
    },
    "tags": []
   },
   "outputs": [],
   "source": [
    "# Set the random seed for reproducibility\n",
    "np.random.seed(45)\n",
    "\n",
    "# Remove duplicate user_ids and sample 17165 observations per group\n",
    "df = (df.groupby(['group'])\n",
    "         .apply(lambda x: x.sample(n=17165, replace=False))\n",
    "         .reset_index(drop=True))"
   ]
  },
  {
   "cell_type": "code",
   "execution_count": 15,
   "id": "08e358c3",
   "metadata": {
    "execution": {
     "iopub.execute_input": "2024-09-06T12:20:49.541080Z",
     "iopub.status.busy": "2024-09-06T12:20:49.540706Z",
     "iopub.status.idle": "2024-09-06T12:20:49.555104Z",
     "shell.execute_reply": "2024-09-06T12:20:49.553990Z"
    },
    "papermill": {
     "duration": 0.029188,
     "end_time": "2024-09-06T12:20:49.557501",
     "exception": false,
     "start_time": "2024-09-06T12:20:49.528313",
     "status": "completed"
    },
    "tags": []
   },
   "outputs": [
    {
     "data": {
      "text/html": [
       "<div>\n",
       "<style scoped>\n",
       "    .dataframe tbody tr th:only-of-type {\n",
       "        vertical-align: middle;\n",
       "    }\n",
       "\n",
       "    .dataframe tbody tr th {\n",
       "        vertical-align: top;\n",
       "    }\n",
       "\n",
       "    .dataframe thead th {\n",
       "        text-align: right;\n",
       "    }\n",
       "</style>\n",
       "<table border=\"1\" class=\"dataframe\">\n",
       "  <thead>\n",
       "    <tr style=\"text-align: right;\">\n",
       "      <th></th>\n",
       "      <th>user_id</th>\n",
       "      <th>timestamp</th>\n",
       "      <th>group</th>\n",
       "      <th>landing_page</th>\n",
       "      <th>converted</th>\n",
       "    </tr>\n",
       "  </thead>\n",
       "  <tbody>\n",
       "    <tr>\n",
       "      <th>0</th>\n",
       "      <td>807689</td>\n",
       "      <td>47:50.8</td>\n",
       "      <td>control</td>\n",
       "      <td>old_page</td>\n",
       "      <td>0</td>\n",
       "    </tr>\n",
       "    <tr>\n",
       "      <th>1</th>\n",
       "      <td>817401</td>\n",
       "      <td>00:36.8</td>\n",
       "      <td>control</td>\n",
       "      <td>old_page</td>\n",
       "      <td>1</td>\n",
       "    </tr>\n",
       "    <tr>\n",
       "      <th>2</th>\n",
       "      <td>652424</td>\n",
       "      <td>28:57.7</td>\n",
       "      <td>control</td>\n",
       "      <td>old_page</td>\n",
       "      <td>0</td>\n",
       "    </tr>\n",
       "    <tr>\n",
       "      <th>3</th>\n",
       "      <td>912117</td>\n",
       "      <td>41:07.2</td>\n",
       "      <td>control</td>\n",
       "      <td>old_page</td>\n",
       "      <td>0</td>\n",
       "    </tr>\n",
       "    <tr>\n",
       "      <th>4</th>\n",
       "      <td>671687</td>\n",
       "      <td>03:04.9</td>\n",
       "      <td>control</td>\n",
       "      <td>old_page</td>\n",
       "      <td>0</td>\n",
       "    </tr>\n",
       "    <tr>\n",
       "      <th>...</th>\n",
       "      <td>...</td>\n",
       "      <td>...</td>\n",
       "      <td>...</td>\n",
       "      <td>...</td>\n",
       "      <td>...</td>\n",
       "    </tr>\n",
       "    <tr>\n",
       "      <th>34325</th>\n",
       "      <td>724420</td>\n",
       "      <td>47:05.8</td>\n",
       "      <td>treatment</td>\n",
       "      <td>new_page</td>\n",
       "      <td>0</td>\n",
       "    </tr>\n",
       "    <tr>\n",
       "      <th>34326</th>\n",
       "      <td>646390</td>\n",
       "      <td>07:56.9</td>\n",
       "      <td>treatment</td>\n",
       "      <td>new_page</td>\n",
       "      <td>0</td>\n",
       "    </tr>\n",
       "    <tr>\n",
       "      <th>34327</th>\n",
       "      <td>838051</td>\n",
       "      <td>35:19.1</td>\n",
       "      <td>treatment</td>\n",
       "      <td>new_page</td>\n",
       "      <td>0</td>\n",
       "    </tr>\n",
       "    <tr>\n",
       "      <th>34328</th>\n",
       "      <td>702806</td>\n",
       "      <td>07:35.5</td>\n",
       "      <td>treatment</td>\n",
       "      <td>new_page</td>\n",
       "      <td>0</td>\n",
       "    </tr>\n",
       "    <tr>\n",
       "      <th>34329</th>\n",
       "      <td>828432</td>\n",
       "      <td>47:52.8</td>\n",
       "      <td>treatment</td>\n",
       "      <td>new_page</td>\n",
       "      <td>1</td>\n",
       "    </tr>\n",
       "  </tbody>\n",
       "</table>\n",
       "<p>34330 rows × 5 columns</p>\n",
       "</div>"
      ],
      "text/plain": [
       "       user_id timestamp      group landing_page  converted\n",
       "0       807689   47:50.8    control     old_page          0\n",
       "1       817401   00:36.8    control     old_page          1\n",
       "2       652424   28:57.7    control     old_page          0\n",
       "3       912117   41:07.2    control     old_page          0\n",
       "4       671687   03:04.9    control     old_page          0\n",
       "...        ...       ...        ...          ...        ...\n",
       "34325   724420   47:05.8  treatment     new_page          0\n",
       "34326   646390   07:56.9  treatment     new_page          0\n",
       "34327   838051   35:19.1  treatment     new_page          0\n",
       "34328   702806   07:35.5  treatment     new_page          0\n",
       "34329   828432   47:52.8  treatment     new_page          1\n",
       "\n",
       "[34330 rows x 5 columns]"
      ]
     },
     "execution_count": 15,
     "metadata": {},
     "output_type": "execute_result"
    }
   ],
   "source": [
    "df"
   ]
  },
  {
   "cell_type": "code",
   "execution_count": 16,
   "id": "51cd9d84",
   "metadata": {
    "execution": {
     "iopub.execute_input": "2024-09-06T12:20:49.581699Z",
     "iopub.status.busy": "2024-09-06T12:20:49.581291Z",
     "iopub.status.idle": "2024-09-06T12:20:49.602709Z",
     "shell.execute_reply": "2024-09-06T12:20:49.601577Z"
    },
    "papermill": {
     "duration": 0.036566,
     "end_time": "2024-09-06T12:20:49.605468",
     "exception": false,
     "start_time": "2024-09-06T12:20:49.568902",
     "status": "completed"
    },
    "tags": []
   },
   "outputs": [],
   "source": [
    "# Collect data to get total observations and total converted per group\n",
    "df = (df.groupby('group')\n",
    "       .agg(total_observations=('user_id', 'size'),\n",
    "            total_converted=('converted', 'sum'))\n",
    "       .reset_index())\n",
    "\n",
    "# Extract counts\n",
    "conv = df['total_converted'].values\n",
    "n = df['total_observations'].values\n",
    "\n",
    "# Conducts Z-Test to compare the mean of the two samples and see if they differ significantly\n",
    "z_stat, p_value = proportions_ztest(count=conv, nobs=n)"
   ]
  },
  {
   "cell_type": "code",
   "execution_count": 17,
   "id": "4be099b4",
   "metadata": {
    "execution": {
     "iopub.execute_input": "2024-09-06T12:20:49.629815Z",
     "iopub.status.busy": "2024-09-06T12:20:49.629010Z",
     "iopub.status.idle": "2024-09-06T12:20:49.634729Z",
     "shell.execute_reply": "2024-09-06T12:20:49.633508Z"
    },
    "papermill": {
     "duration": 0.021627,
     "end_time": "2024-09-06T12:20:49.638179",
     "exception": false,
     "start_time": "2024-09-06T12:20:49.616552",
     "status": "completed"
    },
    "tags": []
   },
   "outputs": [
    {
     "name": "stdout",
     "output_type": "stream",
     "text": [
      "Z-statistic: -0.43399652860477944\n",
      "P-value: 0.664290961882086\n"
     ]
    }
   ],
   "source": [
    "print(\"Z-statistic:\", z_stat)\n",
    "print(\"P-value:\", p_value)"
   ]
  },
  {
   "cell_type": "markdown",
   "id": "ba0f9ac3",
   "metadata": {
    "papermill": {
     "duration": 0.010796,
     "end_time": "2024-09-06T12:20:49.660047",
     "exception": false,
     "start_time": "2024-09-06T12:20:49.649251",
     "status": "completed"
    },
    "tags": []
   },
   "source": [
    "# The P-Value has a value of 0.66, so we can't reject the null hypothesis.\n",
    " There is no significant difference between the two pages."
   ]
  },
  {
   "cell_type": "markdown",
   "id": "69656a3f",
   "metadata": {
    "papermill": {
     "duration": 0.011128,
     "end_time": "2024-09-06T12:20:49.682402",
     "exception": false,
     "start_time": "2024-09-06T12:20:49.671274",
     "status": "completed"
    },
    "tags": []
   },
   "source": [
    "# 3. Conlusion"
   ]
  },
  {
   "cell_type": "markdown",
   "id": "ac4abb96",
   "metadata": {
    "papermill": {
     "duration": 0.010927,
     "end_time": "2024-09-06T12:20:49.704564",
     "exception": false,
     "start_time": "2024-09-06T12:20:49.693637",
     "status": "completed"
    },
    "tags": []
   },
   "source": [
    "There is no significant difference between the two landing pages in terms of conversion rates. We should keep the original landing page until further improvements on the new landing page shows significant improvement in terms of conversion rates."
   ]
  }
 ],
 "metadata": {
  "kaggle": {
   "accelerator": "none",
   "dataSources": [
    {
     "datasetId": 2133464,
     "sourceId": 3548178,
     "sourceType": "datasetVersion"
    }
   ],
   "dockerImageVersionId": 30746,
   "isGpuEnabled": false,
   "isInternetEnabled": true,
   "language": "python",
   "sourceType": "notebook"
  },
  "kernelspec": {
   "display_name": "Python 3",
   "language": "python",
   "name": "python3"
  },
  "language_info": {
   "codemirror_mode": {
    "name": "ipython",
    "version": 3
   },
   "file_extension": ".py",
   "mimetype": "text/x-python",
   "name": "python",
   "nbconvert_exporter": "python",
   "pygments_lexer": "ipython3",
   "version": "3.10.13"
  },
  "papermill": {
   "default_parameters": {},
   "duration": 8.888637,
   "end_time": "2024-09-06T12:20:50.337653",
   "environment_variables": {},
   "exception": null,
   "input_path": "__notebook__.ipynb",
   "output_path": "__notebook__.ipynb",
   "parameters": {},
   "start_time": "2024-09-06T12:20:41.449016",
   "version": "2.5.0"
  }
 },
 "nbformat": 4,
 "nbformat_minor": 5
}
