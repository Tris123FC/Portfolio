{
 "cells": [
  {
   "cell_type": "code",
   "execution_count": 1,
   "id": "5fccaeb9",
   "metadata": {
    "_cell_guid": "b1076dfc-b9ad-4769-8c92-a6c4dae69d19",
    "_uuid": "8f2839f25d086af736a60e9eeb907d3b93b6e0e5",
    "execution": {
     "iopub.execute_input": "2024-09-06T12:16:15.205226Z",
     "iopub.status.busy": "2024-09-06T12:16:15.204818Z",
     "iopub.status.idle": "2024-09-06T12:16:16.447273Z",
     "shell.execute_reply": "2024-09-06T12:16:16.445944Z"
    },
    "papermill": {
     "duration": 1.253726,
     "end_time": "2024-09-06T12:16:16.450186",
     "exception": false,
     "start_time": "2024-09-06T12:16:15.196460",
     "status": "completed"
    },
    "tags": []
   },
   "outputs": [],
   "source": [
    "import numpy as np # linear algebra\n",
    "import pandas as pd # data processing, CSV file I/O (e.g. pd.read_csv)\n",
    "import os\n",
    "import warnings\n",
    "warnings.filterwarnings('ignore')\n",
    "\n",
    "paths = []\n",
    "for dirname, _, filenames in os.walk('/kaggle/input'):\n",
    "    for filename in filenames:\n",
    "        x = os.path.join(dirname, filename)\n",
    "        paths.append(x)\n",
    "\n",
    "df = pd.read_csv(paths[1])"
   ]
  },
  {
   "cell_type": "markdown",
   "id": "5513753e",
   "metadata": {
    "papermill": {
     "duration": 0.006097,
     "end_time": "2024-09-06T12:16:16.462745",
     "exception": false,
     "start_time": "2024-09-06T12:16:16.456648",
     "status": "completed"
    },
    "tags": []
   },
   "source": [
    "# 1. Cleaning and Organising"
   ]
  },
  {
   "cell_type": "markdown",
   "id": "f30c2b6b",
   "metadata": {
    "papermill": {
     "duration": 0.005935,
     "end_time": "2024-09-06T12:16:16.474900",
     "exception": false,
     "start_time": "2024-09-06T12:16:16.468965",
     "status": "completed"
    },
    "tags": []
   },
   "source": [
    "# 1. 1. Quick Look at the Data"
   ]
  },
  {
   "cell_type": "code",
   "execution_count": 2,
   "id": "82a456c8",
   "metadata": {
    "execution": {
     "iopub.execute_input": "2024-09-06T12:16:16.489527Z",
     "iopub.status.busy": "2024-09-06T12:16:16.488867Z",
     "iopub.status.idle": "2024-09-06T12:16:16.510261Z",
     "shell.execute_reply": "2024-09-06T12:16:16.508950Z"
    },
    "papermill": {
     "duration": 0.03112,
     "end_time": "2024-09-06T12:16:16.512536",
     "exception": false,
     "start_time": "2024-09-06T12:16:16.481416",
     "status": "completed"
    },
    "tags": []
   },
   "outputs": [
    {
     "data": {
      "text/html": [
       "<div>\n",
       "<style scoped>\n",
       "    .dataframe tbody tr th:only-of-type {\n",
       "        vertical-align: middle;\n",
       "    }\n",
       "\n",
       "    .dataframe tbody tr th {\n",
       "        vertical-align: top;\n",
       "    }\n",
       "\n",
       "    .dataframe thead th {\n",
       "        text-align: right;\n",
       "    }\n",
       "</style>\n",
       "<table border=\"1\" class=\"dataframe\">\n",
       "  <thead>\n",
       "    <tr style=\"text-align: right;\">\n",
       "      <th></th>\n",
       "      <th>user_id</th>\n",
       "      <th>timestamp</th>\n",
       "      <th>group</th>\n",
       "      <th>landing_page</th>\n",
       "      <th>converted</th>\n",
       "    </tr>\n",
       "  </thead>\n",
       "  <tbody>\n",
       "    <tr>\n",
       "      <th>0</th>\n",
       "      <td>851104</td>\n",
       "      <td>11:48.6</td>\n",
       "      <td>control</td>\n",
       "      <td>old_page</td>\n",
       "      <td>0</td>\n",
       "    </tr>\n",
       "    <tr>\n",
       "      <th>1</th>\n",
       "      <td>804228</td>\n",
       "      <td>01:45.2</td>\n",
       "      <td>control</td>\n",
       "      <td>old_page</td>\n",
       "      <td>0</td>\n",
       "    </tr>\n",
       "    <tr>\n",
       "      <th>2</th>\n",
       "      <td>661590</td>\n",
       "      <td>55:06.2</td>\n",
       "      <td>treatment</td>\n",
       "      <td>new_page</td>\n",
       "      <td>0</td>\n",
       "    </tr>\n",
       "    <tr>\n",
       "      <th>3</th>\n",
       "      <td>853541</td>\n",
       "      <td>28:03.1</td>\n",
       "      <td>treatment</td>\n",
       "      <td>new_page</td>\n",
       "      <td>0</td>\n",
       "    </tr>\n",
       "    <tr>\n",
       "      <th>4</th>\n",
       "      <td>864975</td>\n",
       "      <td>52:26.2</td>\n",
       "      <td>control</td>\n",
       "      <td>old_page</td>\n",
       "      <td>1</td>\n",
       "    </tr>\n",
       "  </tbody>\n",
       "</table>\n",
       "</div>"
      ],
      "text/plain": [
       "   user_id timestamp      group landing_page  converted\n",
       "0   851104   11:48.6    control     old_page          0\n",
       "1   804228   01:45.2    control     old_page          0\n",
       "2   661590   55:06.2  treatment     new_page          0\n",
       "3   853541   28:03.1  treatment     new_page          0\n",
       "4   864975   52:26.2    control     old_page          1"
      ]
     },
     "execution_count": 2,
     "metadata": {},
     "output_type": "execute_result"
    }
   ],
   "source": [
    "df.head(5)"
   ]
  },
  {
   "cell_type": "code",
   "execution_count": 3,
   "id": "f580d5d8",
   "metadata": {
    "execution": {
     "iopub.execute_input": "2024-09-06T12:16:16.527714Z",
     "iopub.status.busy": "2024-09-06T12:16:16.526940Z",
     "iopub.status.idle": "2024-09-06T12:16:16.533121Z",
     "shell.execute_reply": "2024-09-06T12:16:16.532175Z"
    },
    "papermill": {
     "duration": 0.016086,
     "end_time": "2024-09-06T12:16:16.535246",
     "exception": false,
     "start_time": "2024-09-06T12:16:16.519160",
     "status": "completed"
    },
    "tags": []
   },
   "outputs": [
    {
     "data": {
      "text/plain": [
       "(294480, 5)"
      ]
     },
     "execution_count": 3,
     "metadata": {},
     "output_type": "execute_result"
    }
   ],
   "source": [
    "df.shape"
   ]
  },
  {
   "cell_type": "code",
   "execution_count": 4,
   "id": "e5fb1271",
   "metadata": {
    "execution": {
     "iopub.execute_input": "2024-09-06T12:16:16.550648Z",
     "iopub.status.busy": "2024-09-06T12:16:16.549972Z",
     "iopub.status.idle": "2024-09-06T12:16:16.589390Z",
     "shell.execute_reply": "2024-09-06T12:16:16.588230Z"
    },
    "papermill": {
     "duration": 0.049648,
     "end_time": "2024-09-06T12:16:16.591676",
     "exception": false,
     "start_time": "2024-09-06T12:16:16.542028",
     "status": "completed"
    },
    "tags": []
   },
   "outputs": [
    {
     "data": {
      "text/html": [
       "<div>\n",
       "<style scoped>\n",
       "    .dataframe tbody tr th:only-of-type {\n",
       "        vertical-align: middle;\n",
       "    }\n",
       "\n",
       "    .dataframe tbody tr th {\n",
       "        vertical-align: top;\n",
       "    }\n",
       "\n",
       "    .dataframe thead th {\n",
       "        text-align: right;\n",
       "    }\n",
       "</style>\n",
       "<table border=\"1\" class=\"dataframe\">\n",
       "  <thead>\n",
       "    <tr style=\"text-align: right;\">\n",
       "      <th></th>\n",
       "      <th>user_id</th>\n",
       "      <th>converted</th>\n",
       "    </tr>\n",
       "  </thead>\n",
       "  <tbody>\n",
       "    <tr>\n",
       "      <th>count</th>\n",
       "      <td>294480.000000</td>\n",
       "      <td>294480.000000</td>\n",
       "    </tr>\n",
       "    <tr>\n",
       "      <th>mean</th>\n",
       "      <td>787973.538896</td>\n",
       "      <td>0.119658</td>\n",
       "    </tr>\n",
       "    <tr>\n",
       "      <th>std</th>\n",
       "      <td>91210.917091</td>\n",
       "      <td>0.324562</td>\n",
       "    </tr>\n",
       "    <tr>\n",
       "      <th>min</th>\n",
       "      <td>630000.000000</td>\n",
       "      <td>0.000000</td>\n",
       "    </tr>\n",
       "    <tr>\n",
       "      <th>25%</th>\n",
       "      <td>709031.750000</td>\n",
       "      <td>0.000000</td>\n",
       "    </tr>\n",
       "    <tr>\n",
       "      <th>50%</th>\n",
       "      <td>787932.500000</td>\n",
       "      <td>0.000000</td>\n",
       "    </tr>\n",
       "    <tr>\n",
       "      <th>75%</th>\n",
       "      <td>866911.250000</td>\n",
       "      <td>0.000000</td>\n",
       "    </tr>\n",
       "    <tr>\n",
       "      <th>max</th>\n",
       "      <td>945999.000000</td>\n",
       "      <td>1.000000</td>\n",
       "    </tr>\n",
       "  </tbody>\n",
       "</table>\n",
       "</div>"
      ],
      "text/plain": [
       "             user_id      converted\n",
       "count  294480.000000  294480.000000\n",
       "mean   787973.538896       0.119658\n",
       "std     91210.917091       0.324562\n",
       "min    630000.000000       0.000000\n",
       "25%    709031.750000       0.000000\n",
       "50%    787932.500000       0.000000\n",
       "75%    866911.250000       0.000000\n",
       "max    945999.000000       1.000000"
      ]
     },
     "execution_count": 4,
     "metadata": {},
     "output_type": "execute_result"
    }
   ],
   "source": [
    "df.describe()"
   ]
  },
  {
   "cell_type": "code",
   "execution_count": 5,
   "id": "212cc72d",
   "metadata": {
    "execution": {
     "iopub.execute_input": "2024-09-06T12:16:16.606994Z",
     "iopub.status.busy": "2024-09-06T12:16:16.606646Z",
     "iopub.status.idle": "2024-09-06T12:16:16.655124Z",
     "shell.execute_reply": "2024-09-06T12:16:16.654198Z"
    },
    "papermill": {
     "duration": 0.0588,
     "end_time": "2024-09-06T12:16:16.657312",
     "exception": false,
     "start_time": "2024-09-06T12:16:16.598512",
     "status": "completed"
    },
    "tags": []
   },
   "outputs": [],
   "source": [
    "#Check for NA Values - Print list of columns and number of nan values\n",
    "df_columns_mask= df.isna().any(axis=0)\n",
    "columns = df.columns[df_columns_mask]\n",
    "for col in columns:\n",
    "    print(f\"Column {col} has {new_df[col].isna().sum()} NaN values\")"
   ]
  },
  {
   "cell_type": "markdown",
   "id": "32d7c5e2",
   "metadata": {
    "papermill": {
     "duration": 0.006588,
     "end_time": "2024-09-06T12:16:16.670731",
     "exception": false,
     "start_time": "2024-09-06T12:16:16.664143",
     "status": "completed"
    },
    "tags": []
   },
   "source": [
    "# There are no NA values in the dataset."
   ]
  },
  {
   "cell_type": "code",
   "execution_count": 6,
   "id": "76e748ed",
   "metadata": {
    "execution": {
     "iopub.execute_input": "2024-09-06T12:16:16.685586Z",
     "iopub.status.busy": "2024-09-06T12:16:16.685240Z",
     "iopub.status.idle": "2024-09-06T12:16:16.725929Z",
     "shell.execute_reply": "2024-09-06T12:16:16.724823Z"
    },
    "papermill": {
     "duration": 0.050715,
     "end_time": "2024-09-06T12:16:16.728200",
     "exception": false,
     "start_time": "2024-09-06T12:16:16.677485",
     "status": "completed"
    },
    "tags": []
   },
   "outputs": [
    {
     "name": "stdout",
     "output_type": "stream",
     "text": [
      "(294480, 5)\n",
      "(286690, 5)\n"
     ]
    }
   ],
   "source": [
    "# removed duplicates\n",
    "print(df.shape)\n",
    "df = df.drop_duplicates(subset= 'user_id', keep= False)\n",
    "print(df.shape)"
   ]
  },
  {
   "cell_type": "markdown",
   "id": "ed88d93c",
   "metadata": {
    "papermill": {
     "duration": 0.00664,
     "end_time": "2024-09-06T12:16:16.742367",
     "exception": false,
     "start_time": "2024-09-06T12:16:16.735727",
     "status": "completed"
    },
    "tags": []
   },
   "source": [
    "# Tgere are no more duplicate values."
   ]
  },
  {
   "cell_type": "markdown",
   "id": "a48f2939",
   "metadata": {
    "papermill": {
     "duration": 0.006475,
     "end_time": "2024-09-06T12:16:16.755616",
     "exception": false,
     "start_time": "2024-09-06T12:16:16.749141",
     "status": "completed"
    },
    "tags": []
   },
   "source": [
    "# 1. 2. Group Data by Landing Page and Groups"
   ]
  },
  {
   "cell_type": "code",
   "execution_count": 7,
   "id": "ff2595c8",
   "metadata": {
    "execution": {
     "iopub.execute_input": "2024-09-06T12:16:16.770875Z",
     "iopub.status.busy": "2024-09-06T12:16:16.770491Z",
     "iopub.status.idle": "2024-09-06T12:16:16.874438Z",
     "shell.execute_reply": "2024-09-06T12:16:16.873381Z"
    },
    "papermill": {
     "duration": 0.114354,
     "end_time": "2024-09-06T12:16:16.876854",
     "exception": false,
     "start_time": "2024-09-06T12:16:16.762500",
     "status": "completed"
    },
    "tags": []
   },
   "outputs": [
    {
     "data": {
      "text/html": [
       "<div>\n",
       "<style scoped>\n",
       "    .dataframe tbody tr th:only-of-type {\n",
       "        vertical-align: middle;\n",
       "    }\n",
       "\n",
       "    .dataframe tbody tr th {\n",
       "        vertical-align: top;\n",
       "    }\n",
       "\n",
       "    .dataframe thead th {\n",
       "        text-align: right;\n",
       "    }\n",
       "</style>\n",
       "<table border=\"1\" class=\"dataframe\">\n",
       "  <thead>\n",
       "    <tr style=\"text-align: right;\">\n",
       "      <th></th>\n",
       "      <th></th>\n",
       "      <th>landing_page</th>\n",
       "    </tr>\n",
       "    <tr>\n",
       "      <th>landing_page</th>\n",
       "      <th>group</th>\n",
       "      <th></th>\n",
       "    </tr>\n",
       "  </thead>\n",
       "  <tbody>\n",
       "    <tr>\n",
       "      <th>new_page</th>\n",
       "      <th>treatment</th>\n",
       "      <td>143397</td>\n",
       "    </tr>\n",
       "    <tr>\n",
       "      <th>old_page</th>\n",
       "      <th>control</th>\n",
       "      <td>143293</td>\n",
       "    </tr>\n",
       "  </tbody>\n",
       "</table>\n",
       "</div>"
      ],
      "text/plain": [
       "                        landing_page\n",
       "landing_page group                  \n",
       "new_page     treatment        143397\n",
       "old_page     control          143293"
      ]
     },
     "execution_count": 7,
     "metadata": {},
     "output_type": "execute_result"
    }
   ],
   "source": [
    "#count observations for each landing page\n",
    "grouped = df.groupby(['landing_page', 'group']).agg({'landing_page': lambda x: x.value_counts()})\n",
    "grouped"
   ]
  },
  {
   "cell_type": "code",
   "execution_count": 8,
   "id": "51a34d10",
   "metadata": {
    "execution": {
     "iopub.execute_input": "2024-09-06T12:16:16.892468Z",
     "iopub.status.busy": "2024-09-06T12:16:16.892118Z",
     "iopub.status.idle": "2024-09-06T12:16:16.961979Z",
     "shell.execute_reply": "2024-09-06T12:16:16.960975Z"
    },
    "papermill": {
     "duration": 0.080111,
     "end_time": "2024-09-06T12:16:16.964120",
     "exception": false,
     "start_time": "2024-09-06T12:16:16.884009",
     "status": "completed"
    },
    "tags": []
   },
   "outputs": [
    {
     "data": {
      "text/html": [
       "<div>\n",
       "<style scoped>\n",
       "    .dataframe tbody tr th:only-of-type {\n",
       "        vertical-align: middle;\n",
       "    }\n",
       "\n",
       "    .dataframe tbody tr th {\n",
       "        vertical-align: top;\n",
       "    }\n",
       "\n",
       "    .dataframe thead th {\n",
       "        text-align: right;\n",
       "    }\n",
       "</style>\n",
       "<table border=\"1\" class=\"dataframe\">\n",
       "  <thead>\n",
       "    <tr style=\"text-align: right;\">\n",
       "      <th></th>\n",
       "      <th></th>\n",
       "      <th>converted</th>\n",
       "    </tr>\n",
       "    <tr>\n",
       "      <th>landing_page</th>\n",
       "      <th>group</th>\n",
       "      <th></th>\n",
       "    </tr>\n",
       "  </thead>\n",
       "  <tbody>\n",
       "    <tr>\n",
       "      <th>new_page</th>\n",
       "      <th>treatment</th>\n",
       "      <td>17025</td>\n",
       "    </tr>\n",
       "    <tr>\n",
       "      <th>old_page</th>\n",
       "      <th>control</th>\n",
       "      <td>17220</td>\n",
       "    </tr>\n",
       "  </tbody>\n",
       "</table>\n",
       "</div>"
      ],
      "text/plain": [
       "                        converted\n",
       "landing_page group               \n",
       "new_page     treatment      17025\n",
       "old_page     control        17220"
      ]
     },
     "execution_count": 8,
     "metadata": {},
     "output_type": "execute_result"
    }
   ],
   "source": [
    "grouped = df.groupby(['landing_page','group']).agg({'converted':'sum'})\n",
    "grouped"
   ]
  },
  {
   "cell_type": "code",
   "execution_count": 9,
   "id": "b4be82e4",
   "metadata": {
    "execution": {
     "iopub.execute_input": "2024-09-06T12:16:16.980049Z",
     "iopub.status.busy": "2024-09-06T12:16:16.979680Z",
     "iopub.status.idle": "2024-09-06T12:16:17.077038Z",
     "shell.execute_reply": "2024-09-06T12:16:17.076060Z"
    },
    "papermill": {
     "duration": 0.107918,
     "end_time": "2024-09-06T12:16:17.079340",
     "exception": false,
     "start_time": "2024-09-06T12:16:16.971422",
     "status": "completed"
    },
    "tags": []
   },
   "outputs": [
    {
     "data": {
      "text/html": [
       "<div>\n",
       "<style scoped>\n",
       "    .dataframe tbody tr th:only-of-type {\n",
       "        vertical-align: middle;\n",
       "    }\n",
       "\n",
       "    .dataframe tbody tr th {\n",
       "        vertical-align: top;\n",
       "    }\n",
       "\n",
       "    .dataframe thead th {\n",
       "        text-align: right;\n",
       "    }\n",
       "</style>\n",
       "<table border=\"1\" class=\"dataframe\">\n",
       "  <thead>\n",
       "    <tr style=\"text-align: right;\">\n",
       "      <th></th>\n",
       "      <th></th>\n",
       "      <th>landing_page</th>\n",
       "    </tr>\n",
       "    <tr>\n",
       "      <th>landing_page</th>\n",
       "      <th>group</th>\n",
       "      <th></th>\n",
       "    </tr>\n",
       "  </thead>\n",
       "  <tbody>\n",
       "    <tr>\n",
       "      <th>new_page</th>\n",
       "      <th>treatment</th>\n",
       "      <td>143397</td>\n",
       "    </tr>\n",
       "    <tr>\n",
       "      <th>old_page</th>\n",
       "      <th>control</th>\n",
       "      <td>143293</td>\n",
       "    </tr>\n",
       "  </tbody>\n",
       "</table>\n",
       "</div>"
      ],
      "text/plain": [
       "                        landing_page\n",
       "landing_page group                  \n",
       "new_page     treatment        143397\n",
       "old_page     control          143293"
      ]
     },
     "execution_count": 9,
     "metadata": {},
     "output_type": "execute_result"
    }
   ],
   "source": [
    "grouped = df.groupby(['landing_page','group']).agg({'landing_page': lambda x: x.value_counts()})\n",
    "grouped"
   ]
  },
  {
   "cell_type": "code",
   "execution_count": 10,
   "id": "c3357287",
   "metadata": {
    "execution": {
     "iopub.execute_input": "2024-09-06T12:16:17.096270Z",
     "iopub.status.busy": "2024-09-06T12:16:17.095851Z",
     "iopub.status.idle": "2024-09-06T12:16:17.125448Z",
     "shell.execute_reply": "2024-09-06T12:16:17.124476Z"
    },
    "papermill": {
     "duration": 0.040697,
     "end_time": "2024-09-06T12:16:17.127689",
     "exception": false,
     "start_time": "2024-09-06T12:16:17.086992",
     "status": "completed"
    },
    "tags": []
   },
   "outputs": [
    {
     "data": {
      "text/html": [
       "<div>\n",
       "<style scoped>\n",
       "    .dataframe tbody tr th:only-of-type {\n",
       "        vertical-align: middle;\n",
       "    }\n",
       "\n",
       "    .dataframe tbody tr th {\n",
       "        vertical-align: top;\n",
       "    }\n",
       "\n",
       "    .dataframe thead th {\n",
       "        text-align: right;\n",
       "    }\n",
       "</style>\n",
       "<table border=\"1\" class=\"dataframe\">\n",
       "  <thead>\n",
       "    <tr style=\"text-align: right;\">\n",
       "      <th></th>\n",
       "      <th>proportion</th>\n",
       "    </tr>\n",
       "    <tr>\n",
       "      <th>landing_page</th>\n",
       "      <th></th>\n",
       "    </tr>\n",
       "  </thead>\n",
       "  <tbody>\n",
       "    <tr>\n",
       "      <th>new_page</th>\n",
       "      <td>50.018138</td>\n",
       "    </tr>\n",
       "    <tr>\n",
       "      <th>old_page</th>\n",
       "      <td>49.981862</td>\n",
       "    </tr>\n",
       "  </tbody>\n",
       "</table>\n",
       "</div>"
      ],
      "text/plain": [
       "              proportion\n",
       "landing_page            \n",
       "new_page       50.018138\n",
       "old_page       49.981862"
      ]
     },
     "execution_count": 10,
     "metadata": {},
     "output_type": "execute_result"
    }
   ],
   "source": [
    "pd.DataFrame(df.loc[:,'landing_page'].value_counts(normalize = True) * 100)"
   ]
  },
  {
   "cell_type": "code",
   "execution_count": 11,
   "id": "e75a05dc",
   "metadata": {
    "execution": {
     "iopub.execute_input": "2024-09-06T12:16:17.145072Z",
     "iopub.status.busy": "2024-09-06T12:16:17.144145Z",
     "iopub.status.idle": "2024-09-06T12:16:17.253844Z",
     "shell.execute_reply": "2024-09-06T12:16:17.252792Z"
    },
    "papermill": {
     "duration": 0.121266,
     "end_time": "2024-09-06T12:16:17.256432",
     "exception": false,
     "start_time": "2024-09-06T12:16:17.135166",
     "status": "completed"
    },
    "tags": []
   },
   "outputs": [
    {
     "data": {
      "text/html": [
       "<div>\n",
       "<style scoped>\n",
       "    .dataframe tbody tr th:only-of-type {\n",
       "        vertical-align: middle;\n",
       "    }\n",
       "\n",
       "    .dataframe tbody tr th {\n",
       "        vertical-align: top;\n",
       "    }\n",
       "\n",
       "    .dataframe thead th {\n",
       "        text-align: right;\n",
       "    }\n",
       "</style>\n",
       "<table border=\"1\" class=\"dataframe\">\n",
       "  <thead>\n",
       "    <tr style=\"text-align: right;\">\n",
       "      <th></th>\n",
       "      <th>user_id</th>\n",
       "      <th>timestamp</th>\n",
       "      <th>group</th>\n",
       "      <th>landing_page</th>\n",
       "      <th>converted</th>\n",
       "    </tr>\n",
       "  </thead>\n",
       "  <tbody>\n",
       "  </tbody>\n",
       "</table>\n",
       "</div>"
      ],
      "text/plain": [
       "Empty DataFrame\n",
       "Columns: [user_id, timestamp, group, landing_page, converted]\n",
       "Index: []"
      ]
     },
     "execution_count": 11,
     "metadata": {},
     "output_type": "execute_result"
    }
   ],
   "source": [
    "# Check for observations in wrong group\n",
    "df[((df['group'] == 'control') & (df['landing_page'] == 'new_page')) |((df['group'] == 'treatment') & (df['landing_page'] == 'old_page')) ]"
   ]
  },
  {
   "cell_type": "code",
   "execution_count": 12,
   "id": "592b3d24",
   "metadata": {
    "execution": {
     "iopub.execute_input": "2024-09-06T12:16:17.274435Z",
     "iopub.status.busy": "2024-09-06T12:16:17.273621Z",
     "iopub.status.idle": "2024-09-06T12:16:17.343458Z",
     "shell.execute_reply": "2024-09-06T12:16:17.342441Z"
    },
    "papermill": {
     "duration": 0.081279,
     "end_time": "2024-09-06T12:16:17.345658",
     "exception": false,
     "start_time": "2024-09-06T12:16:17.264379",
     "status": "completed"
    },
    "tags": []
   },
   "outputs": [
    {
     "data": {
      "text/html": [
       "<div>\n",
       "<style scoped>\n",
       "    .dataframe tbody tr th:only-of-type {\n",
       "        vertical-align: middle;\n",
       "    }\n",
       "\n",
       "    .dataframe tbody tr th {\n",
       "        vertical-align: top;\n",
       "    }\n",
       "\n",
       "    .dataframe thead th {\n",
       "        text-align: right;\n",
       "    }\n",
       "</style>\n",
       "<table border=\"1\" class=\"dataframe\">\n",
       "  <thead>\n",
       "    <tr style=\"text-align: right;\">\n",
       "      <th></th>\n",
       "      <th></th>\n",
       "      <th>converted</th>\n",
       "    </tr>\n",
       "    <tr>\n",
       "      <th>group</th>\n",
       "      <th>landing_page</th>\n",
       "      <th></th>\n",
       "    </tr>\n",
       "  </thead>\n",
       "  <tbody>\n",
       "    <tr>\n",
       "      <th>control</th>\n",
       "      <th>old_page</th>\n",
       "      <td>0.120173</td>\n",
       "    </tr>\n",
       "    <tr>\n",
       "      <th>treatment</th>\n",
       "      <th>new_page</th>\n",
       "      <td>0.118726</td>\n",
       "    </tr>\n",
       "  </tbody>\n",
       "</table>\n",
       "</div>"
      ],
      "text/plain": [
       "                        converted\n",
       "group     landing_page           \n",
       "control   old_page       0.120173\n",
       "treatment new_page       0.118726"
      ]
     },
     "execution_count": 12,
     "metadata": {},
     "output_type": "execute_result"
    }
   ],
   "source": [
    "grouped = df.groupby(['group','landing_page']).agg({'converted': 'mean'})\n",
    "grouped"
   ]
  },
  {
   "cell_type": "markdown",
   "id": "414bb518",
   "metadata": {
    "papermill": {
     "duration": 0.007443,
     "end_time": "2024-09-06T12:16:17.361090",
     "exception": false,
     "start_time": "2024-09-06T12:16:17.353647",
     "status": "completed"
    },
    "tags": []
   },
   "source": [
    "# Old page and new page have conversion rate close to 12%\n"
   ]
  },
  {
   "cell_type": "markdown",
   "id": "f2be80cb",
   "metadata": {
    "papermill": {
     "duration": 0.007497,
     "end_time": "2024-09-06T12:16:17.376287",
     "exception": false,
     "start_time": "2024-09-06T12:16:17.368790",
     "status": "completed"
    },
    "tags": []
   },
   "source": [
    "# 2. Testing"
   ]
  },
  {
   "cell_type": "markdown",
   "id": "7c3b6487",
   "metadata": {
    "papermill": {
     "duration": 0.007417,
     "end_time": "2024-09-06T12:16:17.391464",
     "exception": false,
     "start_time": "2024-09-06T12:16:17.384047",
     "status": "completed"
    },
    "tags": []
   },
   "source": [
    "#  H0: There is no significant difference between the two sample distributions.\n",
    "    The conversion rates are identical.\n",
    "#  H1: There is a significant difference between the two sample distributions.\n",
    "    The new landing page has a better conversion rate."
   ]
  },
  {
   "cell_type": "markdown",
   "id": "9f4df41e",
   "metadata": {
    "papermill": {
     "duration": 0.007461,
     "end_time": "2024-09-06T12:16:17.406497",
     "exception": false,
     "start_time": "2024-09-06T12:16:17.399036",
     "status": "completed"
    },
    "tags": []
   },
   "source": [
    "# 2.1 Using Power Analysis to Compare Two Means"
   ]
  },
  {
   "cell_type": "code",
   "execution_count": 13,
   "id": "8fa157d0",
   "metadata": {
    "execution": {
     "iopub.execute_input": "2024-09-06T12:16:17.423793Z",
     "iopub.status.busy": "2024-09-06T12:16:17.422878Z",
     "iopub.status.idle": "2024-09-06T12:16:18.577387Z",
     "shell.execute_reply": "2024-09-06T12:16:18.576030Z"
    },
    "papermill": {
     "duration": 1.165959,
     "end_time": "2024-09-06T12:16:18.580057",
     "exception": false,
     "start_time": "2024-09-06T12:16:17.414098",
     "status": "completed"
    },
    "tags": []
   },
   "outputs": [],
   "source": [
    "from statsmodels.stats.proportion import proportions_ztest\n",
    "from statsmodels.stats.power import NormalIndPower\n",
    "\n",
    "#parameters\n",
    "# p1 is the minimum detectable effect we want( 1% conversion increase)\n",
    "p1 = 0.13\n",
    "p2 = 0.12\n",
    "#power is the probability of safely rejecting the null\n",
    "power = 0.8\n",
    "#alpha is the probability of falsely rejecting the null\n",
    "alpha = 0.05"
   ]
  },
  {
   "cell_type": "code",
   "execution_count": 14,
   "id": "3d73c9b6",
   "metadata": {
    "execution": {
     "iopub.execute_input": "2024-09-06T12:16:18.597339Z",
     "iopub.status.busy": "2024-09-06T12:16:18.596866Z",
     "iopub.status.idle": "2024-09-06T12:16:18.621738Z",
     "shell.execute_reply": "2024-09-06T12:16:18.620499Z"
    },
    "papermill": {
     "duration": 0.035969,
     "end_time": "2024-09-06T12:16:18.623962",
     "exception": false,
     "start_time": "2024-09-06T12:16:18.587993",
     "status": "completed"
    },
    "tags": []
   },
   "outputs": [
    {
     "name": "stdout",
     "output_type": "stream",
     "text": [
      "Effect size: 0.03\n",
      "Required sample size per group: 17165.46\n",
      "Required sample size per group: 17165.46\n"
     ]
    }
   ],
   "source": [
    "from statsmodels.stats.power import NormalIndPower\n",
    "from statsmodels.stats.proportion import proportions_ztest\n",
    "\n",
    "# We need to calculate effect size (a measure of magnitude) to determin sample size\n",
    "# using Cohen's H Formula standardised formula.\n",
    "effect_size = (p1 - p2) / ((p1 * (1 - p1) + p2 * (1 - p2)) / 2) ** 0.5\n",
    "# Calculate the required sample size\n",
    "analysis = NormalIndPower()\n",
    "sample_size = analysis.solve_power(effect_size=effect_size, power=power, alpha=alpha, ratio=1.0, alternative='two-sided')\n",
    "print(f'Effect size: {effect_size:.2f}')\n",
    "\n",
    "print(f'Required sample size per group: {sample_size:.2f}')\n",
    "\n",
    "print(f'Required sample size per group: {sample_size:.2f}')"
   ]
  },
  {
   "cell_type": "code",
   "execution_count": 15,
   "id": "45216416",
   "metadata": {
    "execution": {
     "iopub.execute_input": "2024-09-06T12:16:18.641392Z",
     "iopub.status.busy": "2024-09-06T12:16:18.641027Z",
     "iopub.status.idle": "2024-09-06T12:16:18.744974Z",
     "shell.execute_reply": "2024-09-06T12:16:18.744030Z"
    },
    "papermill": {
     "duration": 0.115547,
     "end_time": "2024-09-06T12:16:18.747442",
     "exception": false,
     "start_time": "2024-09-06T12:16:18.631895",
     "status": "completed"
    },
    "tags": []
   },
   "outputs": [],
   "source": [
    "# Set the random seed for reproducibility\n",
    "np.random.seed(45)\n",
    "\n",
    "# Remove duplicate user_ids and sample 17165 observations per group\n",
    "df = (df.groupby(['group'])\n",
    "         .apply(lambda x: x.sample(n=17165, replace=False))\n",
    "         .reset_index(drop=True))"
   ]
  },
  {
   "cell_type": "code",
   "execution_count": 16,
   "id": "a70aeadb",
   "metadata": {
    "execution": {
     "iopub.execute_input": "2024-09-06T12:16:18.764888Z",
     "iopub.status.busy": "2024-09-06T12:16:18.764501Z",
     "iopub.status.idle": "2024-09-06T12:16:18.777092Z",
     "shell.execute_reply": "2024-09-06T12:16:18.776013Z"
    },
    "papermill": {
     "duration": 0.023728,
     "end_time": "2024-09-06T12:16:18.779193",
     "exception": false,
     "start_time": "2024-09-06T12:16:18.755465",
     "status": "completed"
    },
    "tags": []
   },
   "outputs": [
    {
     "data": {
      "text/html": [
       "<div>\n",
       "<style scoped>\n",
       "    .dataframe tbody tr th:only-of-type {\n",
       "        vertical-align: middle;\n",
       "    }\n",
       "\n",
       "    .dataframe tbody tr th {\n",
       "        vertical-align: top;\n",
       "    }\n",
       "\n",
       "    .dataframe thead th {\n",
       "        text-align: right;\n",
       "    }\n",
       "</style>\n",
       "<table border=\"1\" class=\"dataframe\">\n",
       "  <thead>\n",
       "    <tr style=\"text-align: right;\">\n",
       "      <th></th>\n",
       "      <th>user_id</th>\n",
       "      <th>timestamp</th>\n",
       "      <th>group</th>\n",
       "      <th>landing_page</th>\n",
       "      <th>converted</th>\n",
       "    </tr>\n",
       "  </thead>\n",
       "  <tbody>\n",
       "    <tr>\n",
       "      <th>0</th>\n",
       "      <td>807689</td>\n",
       "      <td>47:50.8</td>\n",
       "      <td>control</td>\n",
       "      <td>old_page</td>\n",
       "      <td>0</td>\n",
       "    </tr>\n",
       "    <tr>\n",
       "      <th>1</th>\n",
       "      <td>817401</td>\n",
       "      <td>00:36.8</td>\n",
       "      <td>control</td>\n",
       "      <td>old_page</td>\n",
       "      <td>1</td>\n",
       "    </tr>\n",
       "    <tr>\n",
       "      <th>2</th>\n",
       "      <td>652424</td>\n",
       "      <td>28:57.7</td>\n",
       "      <td>control</td>\n",
       "      <td>old_page</td>\n",
       "      <td>0</td>\n",
       "    </tr>\n",
       "    <tr>\n",
       "      <th>3</th>\n",
       "      <td>912117</td>\n",
       "      <td>41:07.2</td>\n",
       "      <td>control</td>\n",
       "      <td>old_page</td>\n",
       "      <td>0</td>\n",
       "    </tr>\n",
       "    <tr>\n",
       "      <th>4</th>\n",
       "      <td>671687</td>\n",
       "      <td>03:04.9</td>\n",
       "      <td>control</td>\n",
       "      <td>old_page</td>\n",
       "      <td>0</td>\n",
       "    </tr>\n",
       "    <tr>\n",
       "      <th>...</th>\n",
       "      <td>...</td>\n",
       "      <td>...</td>\n",
       "      <td>...</td>\n",
       "      <td>...</td>\n",
       "      <td>...</td>\n",
       "    </tr>\n",
       "    <tr>\n",
       "      <th>34325</th>\n",
       "      <td>724420</td>\n",
       "      <td>47:05.8</td>\n",
       "      <td>treatment</td>\n",
       "      <td>new_page</td>\n",
       "      <td>0</td>\n",
       "    </tr>\n",
       "    <tr>\n",
       "      <th>34326</th>\n",
       "      <td>646390</td>\n",
       "      <td>07:56.9</td>\n",
       "      <td>treatment</td>\n",
       "      <td>new_page</td>\n",
       "      <td>0</td>\n",
       "    </tr>\n",
       "    <tr>\n",
       "      <th>34327</th>\n",
       "      <td>838051</td>\n",
       "      <td>35:19.1</td>\n",
       "      <td>treatment</td>\n",
       "      <td>new_page</td>\n",
       "      <td>0</td>\n",
       "    </tr>\n",
       "    <tr>\n",
       "      <th>34328</th>\n",
       "      <td>702806</td>\n",
       "      <td>07:35.5</td>\n",
       "      <td>treatment</td>\n",
       "      <td>new_page</td>\n",
       "      <td>0</td>\n",
       "    </tr>\n",
       "    <tr>\n",
       "      <th>34329</th>\n",
       "      <td>828432</td>\n",
       "      <td>47:52.8</td>\n",
       "      <td>treatment</td>\n",
       "      <td>new_page</td>\n",
       "      <td>1</td>\n",
       "    </tr>\n",
       "  </tbody>\n",
       "</table>\n",
       "<p>34330 rows × 5 columns</p>\n",
       "</div>"
      ],
      "text/plain": [
       "       user_id timestamp      group landing_page  converted\n",
       "0       807689   47:50.8    control     old_page          0\n",
       "1       817401   00:36.8    control     old_page          1\n",
       "2       652424   28:57.7    control     old_page          0\n",
       "3       912117   41:07.2    control     old_page          0\n",
       "4       671687   03:04.9    control     old_page          0\n",
       "...        ...       ...        ...          ...        ...\n",
       "34325   724420   47:05.8  treatment     new_page          0\n",
       "34326   646390   07:56.9  treatment     new_page          0\n",
       "34327   838051   35:19.1  treatment     new_page          0\n",
       "34328   702806   07:35.5  treatment     new_page          0\n",
       "34329   828432   47:52.8  treatment     new_page          1\n",
       "\n",
       "[34330 rows x 5 columns]"
      ]
     },
     "execution_count": 16,
     "metadata": {},
     "output_type": "execute_result"
    }
   ],
   "source": [
    "df"
   ]
  },
  {
   "cell_type": "code",
   "execution_count": 17,
   "id": "3e380b8b",
   "metadata": {
    "execution": {
     "iopub.execute_input": "2024-09-06T12:16:18.797487Z",
     "iopub.status.busy": "2024-09-06T12:16:18.797146Z",
     "iopub.status.idle": "2024-09-06T12:16:18.815446Z",
     "shell.execute_reply": "2024-09-06T12:16:18.814272Z"
    },
    "papermill": {
     "duration": 0.030666,
     "end_time": "2024-09-06T12:16:18.818186",
     "exception": false,
     "start_time": "2024-09-06T12:16:18.787520",
     "status": "completed"
    },
    "tags": []
   },
   "outputs": [],
   "source": [
    "# Collect data to get total observations and total converted per group\n",
    "df = (df.groupby('group')\n",
    "       .agg(total_observations=('user_id', 'size'),\n",
    "            total_converted=('converted', 'sum'))\n",
    "       .reset_index())\n",
    "\n",
    "# Extract counts\n",
    "conv = df['total_converted'].values\n",
    "n = df['total_observations'].values\n",
    "\n",
    "# Conducts Z-Test to compare the mean of the two samples and see if they differ significantly\n",
    "z_stat, p_value = proportions_ztest(count=conv, nobs=n)"
   ]
  },
  {
   "cell_type": "code",
   "execution_count": 18,
   "id": "9c8d0eb9",
   "metadata": {
    "execution": {
     "iopub.execute_input": "2024-09-06T12:16:18.836510Z",
     "iopub.status.busy": "2024-09-06T12:16:18.836149Z",
     "iopub.status.idle": "2024-09-06T12:16:18.841786Z",
     "shell.execute_reply": "2024-09-06T12:16:18.840732Z"
    },
    "papermill": {
     "duration": 0.017387,
     "end_time": "2024-09-06T12:16:18.843919",
     "exception": false,
     "start_time": "2024-09-06T12:16:18.826532",
     "status": "completed"
    },
    "tags": []
   },
   "outputs": [
    {
     "name": "stdout",
     "output_type": "stream",
     "text": [
      "Z-statistic: -0.43399652860477944\n",
      "P-value: 0.664290961882086\n"
     ]
    }
   ],
   "source": [
    "print(\"Z-statistic:\", z_stat)\n",
    "print(\"P-value:\", p_value)"
   ]
  },
  {
   "cell_type": "markdown",
   "id": "a411b45d",
   "metadata": {
    "papermill": {
     "duration": 0.008055,
     "end_time": "2024-09-06T12:16:18.860258",
     "exception": false,
     "start_time": "2024-09-06T12:16:18.852203",
     "status": "completed"
    },
    "tags": []
   },
   "source": [
    "# The P-Value has a value of 0.66, so we can't reject the null hypothesis.\n",
    " There is no significant difference between the two pages."
   ]
  },
  {
   "cell_type": "markdown",
   "id": "59d4a4e7",
   "metadata": {
    "papermill": {
     "duration": 0.007792,
     "end_time": "2024-09-06T12:16:18.876528",
     "exception": false,
     "start_time": "2024-09-06T12:16:18.868736",
     "status": "completed"
    },
    "tags": []
   },
   "source": [
    "# 3. Conlusion"
   ]
  },
  {
   "cell_type": "markdown",
   "id": "4a46a2db",
   "metadata": {
    "papermill": {
     "duration": 0.008112,
     "end_time": "2024-09-06T12:16:18.892901",
     "exception": false,
     "start_time": "2024-09-06T12:16:18.884789",
     "status": "completed"
    },
    "tags": []
   },
   "source": [
    "There is no significant difference between the two landing pages in terms of conversion rates. We should keep the original landing page until further improvements on the new landing page shows significant improvement in terms of conversion rates."
   ]
  }
 ],
 "metadata": {
  "kaggle": {
   "accelerator": "none",
   "dataSources": [
    {
     "datasetId": 2133464,
     "sourceId": 3548178,
     "sourceType": "datasetVersion"
    }
   ],
   "dockerImageVersionId": 30746,
   "isGpuEnabled": false,
   "isInternetEnabled": true,
   "language": "python",
   "sourceType": "notebook"
  },
  "kernelspec": {
   "display_name": "Python 3",
   "language": "python",
   "name": "python3"
  },
  "language_info": {
   "codemirror_mode": {
    "name": "ipython",
    "version": 3
   },
   "file_extension": ".py",
   "mimetype": "text/x-python",
   "name": "python",
   "nbconvert_exporter": "python",
   "pygments_lexer": "ipython3",
   "version": "3.10.13"
  },
  "papermill": {
   "default_parameters": {},
   "duration": 7.40048,
   "end_time": "2024-09-06T12:16:19.421333",
   "environment_variables": {},
   "exception": null,
   "input_path": "__notebook__.ipynb",
   "output_path": "__notebook__.ipynb",
   "parameters": {},
   "start_time": "2024-09-06T12:16:12.020853",
   "version": "2.5.0"
  }
 },
 "nbformat": 4,
 "nbformat_minor": 5
}
